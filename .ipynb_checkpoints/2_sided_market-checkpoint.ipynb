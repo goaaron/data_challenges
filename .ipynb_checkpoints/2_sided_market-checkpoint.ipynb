{
 "cells": [
  {
   "cell_type": "markdown",
   "metadata": {},
   "source": [
    "# tl;dr\n",
    "1. We can try to improve the booking rate by testing products which decrease host response latency and notify guests to be more engaged (book for more nights and send longer messages) when they are competing with other guests with longer rental histories for a given listing.\n",
    "2. The experiment of longer message_length seemed statistically insignificant across the large population as a whole, but may be effective for sub-populations. I would need to work with a PM to determine if the branching logic makes sense for the business--but my inkling is that the feature should not be deployed.\n"
   ]
  },
  {
   "cell_type": "code",
   "execution_count": 123,
   "metadata": {},
   "outputs": [],
   "source": [
    "import numpy as np\n",
    "import pandas as pd\n",
    "import matplotlib.pyplot as plt\n",
    "import seaborn as sns\n",
    "from sklearn.metrics import classification_report \n",
    "from sklearn.cross_validation import train_test_split\n",
    "from sklearn.pipeline import Pipeline\n",
    "from sklearn.grid_search import GridSearchCV \n",
    "from sklearn.preprocessing import LabelEncoder\n",
    "from sklearn.ensemble import RandomForestClassifier, GradientBoostingClassifier\n",
    "from sklearn.ensemble.partial_dependence import plot_partial_dependence\n",
    "from sklearn.ensemble import partial_dependence\n",
    "%matplotlib inline"
   ]
  },
  {
   "cell_type": "markdown",
   "metadata": {},
   "source": [
    "# Part 1 - Predicting Booking Rates\n",
    "\"We would like to better understand the reasons behind whether a guest ultimately is\n",
    "able to make a booking and what makes a guest more likely to end up with a\n",
    "booking. Build a model that can be used to explain the booking rate. Based on the\n",
    "model, what product feature do you most recommend for improving booking rate?\"\n",
    "\n",
    "This is a 2-sided marketplace in which we can increase booking rates from both the host and the guest side.\n",
    "\n",
    "## A. Host side"
   ]
  },
  {
   "cell_type": "code",
   "execution_count": 2,
   "metadata": {
    "collapsed": true
   },
   "outputs": [],
   "source": [
    "assignments_df = pd.read_csv('./assignments.csv')\n",
    "contacts_df = pd.read_csv('./contacts.csv')"
   ]
  },
  {
   "cell_type": "markdown",
   "metadata": {},
   "source": [
    "<b/>We will drop instant booked observations to understand how we can improve the regular booking process.</b>"
   ]
  },
  {
   "cell_type": "code",
   "execution_count": 3,
   "metadata": {
    "collapsed": true
   },
   "outputs": [],
   "source": [
    "contacts_df = contacts_df[contacts_df['dim_contact_channel_first'] != 'instant_booked'] "
   ]
  },
  {
   "cell_type": "code",
   "execution_count": 4,
   "metadata": {},
   "outputs": [
    {
     "name": "stdout",
     "output_type": "stream",
     "text": [
      "1392 6398 6452\n"
     ]
    }
   ],
   "source": [
    "failed_replies = contacts_df['ts_reply_at_first'].isnull().sum()\n",
    "failed_accepts = contacts_df['ts_accepted_at_first'].isnull().sum()\n",
    "failed_booking = contacts_df['ts_booking_at'].isnull().sum()\n",
    "print failed_replies, failed_accepts, failed_booking"
   ]
  },
  {
   "cell_type": "markdown",
   "metadata": {},
   "source": [
    "This seems reasonable. Guests could be accepted for a listing and choose not to book. \n",
    "\n",
    "Let's engineer the labels for a sucessful or failed booking. ```NaNs``` in the `ts_booking_at` field denote a failure to book."
   ]
  },
  {
   "cell_type": "code",
   "execution_count": 5,
   "metadata": {
    "collapsed": true
   },
   "outputs": [],
   "source": [
    "contacts_df['booked'] = np.where(contacts_df['ts_booking_at'].isnull() &~\n",
    "                                 (contacts_df['dim_contact_channel_first'] ==  'instant_booked') , 0, 1) "
   ]
  },
  {
   "cell_type": "markdown",
   "metadata": {},
   "source": [
    "Great. Now we need to engineer some more useful features.\n",
    "\n",
    ">Then let's add:\n",
    "0. Fill nulls in m_first_message_length_in_characters with 0.\n",
    "1. Number of booking days: (ds_checkout_first - ds_checkin_first)\n",
    "2. Delay from the interaction to the first reply\n",
    "3. Delay from the first reply and the acceptance (maybe if there's a big wait here, the guest goes somewhere else)\n",
    "    -If there exists a NaN, it may be good to discretize this feature\n",
    "4. Number of concurrent requests for a booking interaction that each listing has\n",
    "5. Does the booking cover a holiday? \n",
    "6. Month of the booking (we can get more granular later)\n",
    "7. Day of the booking\n",
    "8. Was the host a guest? \n",
    "9. How popular is the host?\n",
    "10. How many previous bookings has the guest had (up until this time)? "
   ]
  },
  {
   "cell_type": "code",
   "execution_count": 6,
   "metadata": {
    "collapsed": true
   },
   "outputs": [],
   "source": [
    "#Fill nulls\n",
    "contacts_df['m_first_message_length_in_characters'].fillna(0, inplace = True)\n",
    "\n",
    "#Calculate total duration of the stay\n",
    "contacts_df['ds_checkin_first'] = pd.to_datetime(contacts_df['ds_checkin_first'])\n",
    "contacts_df['ds_checkout_first'] = pd.to_datetime(contacts_df['ds_checkout_first'])\n",
    "contacts_df['ts_booking_at'] = pd.to_datetime(contacts_df['ts_booking_at'])\n",
    "contacts_df['days_diff'] = (contacts_df['ds_checkout_first'] - contacts_df['ds_checkin_first'])/np.timedelta64(1, 'D')"
   ]
  },
  {
   "cell_type": "code",
   "execution_count": 7,
   "metadata": {
    "collapsed": true
   },
   "outputs": [],
   "source": [
    "#Calculate delays in the interaction \n",
    "contacts_df['ts_interaction_first'] = pd.to_datetime(contacts_df['ts_interaction_first'])\n",
    "contacts_df['ts_reply_at_first'] = pd.to_datetime(contacts_df['ts_reply_at_first'])\n",
    "contacts_df['ts_accepted_at_first'] = pd.to_datetime(contacts_df['ts_accepted_at_first'])\n",
    "\n",
    "contacts_df['response_delay'] = (contacts_df['ts_reply_at_first'] - contacts_df['ts_interaction_first'])/np.timedelta64(1, 'h')\n",
    "contacts_df['accept_delay'] = (contacts_df['ts_accepted_at_first'] - contacts_df['ts_reply_at_first'])/np.timedelta64(1, 'h')"
   ]
  },
  {
   "cell_type": "markdown",
   "metadata": {},
   "source": [
    "Let's add if the guest was at one point a host. "
   ]
  },
  {
   "cell_type": "code",
   "execution_count": 8,
   "metadata": {
    "collapsed": true
   },
   "outputs": [],
   "source": [
    "host_ids = set(contacts_df['id_host_anon'])\n",
    "contacts_df['guest_host'] = pd.Series(0, index=contacts_df.index)\n",
    "for index, row in contacts_df.iterrows():\n",
    "    if row['id_guest_anon'] in host_ids:\n",
    "        contacts_df.loc[index, 'guest_host'] = 1"
   ]
  },
  {
   "cell_type": "markdown",
   "metadata": {},
   "source": [
    "Add in the number of times a guest has booked up until this time, and how many times a host has been contacted up to this point. "
   ]
  },
  {
   "cell_type": "code",
   "execution_count": null,
   "metadata": {
    "collapsed": true
   },
   "outputs": [],
   "source": [
    "contacts_df['guest_checkins'] = pd.Series(0, index=contacts_df.index)\n",
    "contacts_df['host_demand'] = pd.Series(0, index=contacts_df.index)\n",
    "for index, row in contacts_df.iterrows():\n",
    "    guest_id = row['id_guest_anon']\n",
    "    host_id = row['id_host_anon']\n",
    "    current_date = row['ts_interaction_first']\n",
    "    guest_count = len(contacts_df.loc[(contacts_df['id_guest_anon'] == guest_id) & (contacts_df['booked'] == 1) &\n",
    "                                     (contacts_df['ts_booking_at'] <= current_date)])\n",
    "    host_count = len(contacts_df.loc[(contacts_df['id_host_anon'] == host_id) &\n",
    "                                     (contacts_df['ts_booking_at'] <= current_date)])\n",
    "    contacts_df.loc[index, 'guest_checkins'] = guest_count\n",
    "    contacts_df.loc[index, 'host_demand'] = host_count"
   ]
  },
  {
   "cell_type": "markdown",
   "metadata": {},
   "source": [
    "Let's get an idea for listing demand by seeing the number of overlapping requests for a listing. "
   ]
  },
  {
   "cell_type": "code",
   "execution_count": 9,
   "metadata": {
    "collapsed": true
   },
   "outputs": [],
   "source": [
    "merge_df = contacts_df\n",
    "merge_df['index1'] = contacts_df.index\n",
    "merge_df = pd.merge(merge_df, merge_df, on=['id_listing_anon'], suffixes=['','_compare'])\n",
    "merge_df['overlap'] = ((merge_df['ds_checkin_first']>=merge_df['ds_checkin_first_compare'])&\n",
    "                       (merge_df['ds_checkin_first']<=merge_df['ds_checkout_first_compare']))|((merge_df['ds_checkout_first']>=merge_df['ds_checkin_first_compare'])&\n",
    "                           (merge_df['ds_checkout_first']<=merge_df['ds_checkout_first_compare']))"
   ]
  },
  {
   "cell_type": "code",
   "execution_count": null,
   "metadata": {
    "collapsed": true
   },
   "outputs": [],
   "source": [
    "merge_df['overlap'] = ((merge_df['ds_checkin_first']>=merge_df['ds_checkin_first_compare'])&(merge_df['ds_checkin_first']<=merge_df['ds_checkout_first_compare']))|((merge_df['ds_checkout_first']>=merge_df['ds_checkin_first_compare'])&\n",
    "                           (merge_df['ds_checkout_first']<=merge_df['ds_checkout_first_compare']))"
   ]
  },
  {
   "cell_type": "code",
   "execution_count": 12,
   "metadata": {},
   "outputs": [
    {
     "data": {
      "text/html": [
       "<div>\n",
       "<style>\n",
       "    .dataframe thead tr:only-child th {\n",
       "        text-align: right;\n",
       "    }\n",
       "\n",
       "    .dataframe thead th {\n",
       "        text-align: left;\n",
       "    }\n",
       "\n",
       "    .dataframe tbody tr th {\n",
       "        vertical-align: top;\n",
       "    }\n",
       "</style>\n",
       "<table border=\"1\" class=\"dataframe\">\n",
       "  <thead>\n",
       "    <tr style=\"text-align: right;\">\n",
       "      <th></th>\n",
       "      <th>index1</th>\n",
       "      <th>ds_checkin_first</th>\n",
       "      <th>ds_checkout_first</th>\n",
       "      <th>index1_compare</th>\n",
       "    </tr>\n",
       "  </thead>\n",
       "  <tbody>\n",
       "    <tr>\n",
       "      <th>0</th>\n",
       "      <td>0</td>\n",
       "      <td>2013-01-18</td>\n",
       "      <td>2013-01-20</td>\n",
       "      <td>1</td>\n",
       "    </tr>\n",
       "    <tr>\n",
       "      <th>1</th>\n",
       "      <td>1</td>\n",
       "      <td>2013-01-23</td>\n",
       "      <td>2013-01-25</td>\n",
       "      <td>1</td>\n",
       "    </tr>\n",
       "    <tr>\n",
       "      <th>2</th>\n",
       "      <td>2</td>\n",
       "      <td>2013-05-31</td>\n",
       "      <td>2013-06-03</td>\n",
       "      <td>1</td>\n",
       "    </tr>\n",
       "    <tr>\n",
       "      <th>3</th>\n",
       "      <td>3</td>\n",
       "      <td>2013-02-09</td>\n",
       "      <td>2013-02-11</td>\n",
       "      <td>3</td>\n",
       "    </tr>\n",
       "    <tr>\n",
       "      <th>4</th>\n",
       "      <td>4</td>\n",
       "      <td>2013-06-06</td>\n",
       "      <td>2013-06-08</td>\n",
       "      <td>1</td>\n",
       "    </tr>\n",
       "  </tbody>\n",
       "</table>\n",
       "</div>"
      ],
      "text/plain": [
       "   index1 ds_checkin_first ds_checkout_first  index1_compare\n",
       "0       0       2013-01-18        2013-01-20               1\n",
       "1       1       2013-01-23        2013-01-25               1\n",
       "2       2       2013-05-31        2013-06-03               1\n",
       "3       3       2013-02-09        2013-02-11               3\n",
       "4       4       2013-06-06        2013-06-08               1"
      ]
     },
     "execution_count": 12,
     "metadata": {},
     "output_type": "execute_result"
    }
   ],
   "source": [
    "result = merge_df[merge_df.overlap>0].groupby(['index1','ds_checkin_first','ds_checkout_first']).agg({'index1_compare':np.size}).reset_index()\n",
    "result.head()"
   ]
  },
  {
   "cell_type": "code",
   "execution_count": 13,
   "metadata": {},
   "outputs": [
    {
     "data": {
      "text/plain": [
       "10454"
      ]
     },
     "execution_count": 13,
     "metadata": {},
     "output_type": "execute_result"
    }
   ],
   "source": [
    "result['index1_compare'].sum() - len(contacts_df)"
   ]
  },
  {
   "cell_type": "markdown",
   "metadata": {},
   "source": [
    "We can see that almost 1/3 of the dataset has overlap. "
   ]
  },
  {
   "cell_type": "code",
   "execution_count": 14,
   "metadata": {},
   "outputs": [],
   "source": [
    "contacts_df['concurrent_listing'] = result['index1_compare']"
   ]
  },
  {
   "cell_type": "markdown",
   "metadata": {},
   "source": [
    "Seems like you can respond with an acceptance (some delays are 0). It might be useful to engineer a \n",
    "metric that considers the number of  interactions before a booking. But we can't with this data. "
   ]
  },
  {
   "cell_type": "code",
   "execution_count": 16,
   "metadata": {
    "collapsed": true
   },
   "outputs": [],
   "source": [
    "#Finding the holidays\n",
    "from pandas.tseries.holiday import USFederalHolidayCalendar as calendar\n",
    "cal = calendar()\n",
    "date_range = pd.date_range(start='2012-07-01', end='2017-07-31')\n",
    "holidays = set(cal.holidays(start=date_range.min(), end=date_range.max()))\n",
    "\n",
    "contacts_df['holiday'] = pd.Series(False, index=contacts_df.index)\n",
    "\n",
    "for index, row in contacts_df.iterrows():\n",
    "    row_range = pd.date_range(row['ds_checkin_first'], row['ds_checkout_first'])\n",
    "    is_holiday = bool(set(row_range) & holidays)\n",
    "    if is_holiday:\n",
    "        contacts_df.loc[index, 'holiday'] = True"
   ]
  },
  {
   "cell_type": "code",
   "execution_count": 17,
   "metadata": {
    "collapsed": true
   },
   "outputs": [],
   "source": [
    "contacts_df['start_month'] = contacts_df['ds_checkin_first'].map(lambda date: date.month)\n",
    "contacts_df['start_day'] = contacts_df['ds_checkin_first'].map(lambda date: date.day)"
   ]
  },
  {
   "cell_type": "code",
   "execution_count": 18,
   "metadata": {
    "scrolled": true
   },
   "outputs": [
    {
     "data": {
      "text/html": [
       "<div>\n",
       "<style>\n",
       "    .dataframe thead tr:only-child th {\n",
       "        text-align: right;\n",
       "    }\n",
       "\n",
       "    .dataframe thead th {\n",
       "        text-align: left;\n",
       "    }\n",
       "\n",
       "    .dataframe tbody tr th {\n",
       "        vertical-align: top;\n",
       "    }\n",
       "</style>\n",
       "<table border=\"1\" class=\"dataframe\">\n",
       "  <thead>\n",
       "    <tr style=\"text-align: right;\">\n",
       "      <th></th>\n",
       "      <th>id_guest_anon</th>\n",
       "      <th>id_host_anon</th>\n",
       "      <th>id_listing_anon</th>\n",
       "      <th>ts_interaction_first</th>\n",
       "      <th>ts_reply_at_first</th>\n",
       "      <th>ts_accepted_at_first</th>\n",
       "      <th>ts_booking_at</th>\n",
       "      <th>ds_checkin_first</th>\n",
       "      <th>ds_checkout_first</th>\n",
       "      <th>m_guests_first</th>\n",
       "      <th>...</th>\n",
       "      <th>response_delay</th>\n",
       "      <th>accept_delay</th>\n",
       "      <th>guest_host</th>\n",
       "      <th>index1</th>\n",
       "      <th>guest_checkins</th>\n",
       "      <th>host_demand</th>\n",
       "      <th>concurrent_listing</th>\n",
       "      <th>holiday</th>\n",
       "      <th>start_month</th>\n",
       "      <th>start_day</th>\n",
       "    </tr>\n",
       "    <tr>\n",
       "      <th>booked</th>\n",
       "      <th></th>\n",
       "      <th></th>\n",
       "      <th></th>\n",
       "      <th></th>\n",
       "      <th></th>\n",
       "      <th></th>\n",
       "      <th></th>\n",
       "      <th></th>\n",
       "      <th></th>\n",
       "      <th></th>\n",
       "      <th></th>\n",
       "      <th></th>\n",
       "      <th></th>\n",
       "      <th></th>\n",
       "      <th></th>\n",
       "      <th></th>\n",
       "      <th></th>\n",
       "      <th></th>\n",
       "      <th></th>\n",
       "      <th></th>\n",
       "      <th></th>\n",
       "    </tr>\n",
       "  </thead>\n",
       "  <tbody>\n",
       "    <tr>\n",
       "      <th>0</th>\n",
       "      <td>6452</td>\n",
       "      <td>6452</td>\n",
       "      <td>6452</td>\n",
       "      <td>6452</td>\n",
       "      <td>5062</td>\n",
       "      <td>54</td>\n",
       "      <td>0</td>\n",
       "      <td>6452</td>\n",
       "      <td>6452</td>\n",
       "      <td>6440</td>\n",
       "      <td>...</td>\n",
       "      <td>5062</td>\n",
       "      <td>54</td>\n",
       "      <td>6452</td>\n",
       "      <td>6452</td>\n",
       "      <td>6452</td>\n",
       "      <td>6452</td>\n",
       "      <td>5015</td>\n",
       "      <td>6452</td>\n",
       "      <td>6452</td>\n",
       "      <td>6452</td>\n",
       "    </tr>\n",
       "    <tr>\n",
       "      <th>1</th>\n",
       "      <td>13406</td>\n",
       "      <td>13406</td>\n",
       "      <td>13406</td>\n",
       "      <td>13406</td>\n",
       "      <td>13404</td>\n",
       "      <td>13406</td>\n",
       "      <td>13406</td>\n",
       "      <td>13406</td>\n",
       "      <td>13406</td>\n",
       "      <td>13383</td>\n",
       "      <td>...</td>\n",
       "      <td>13404</td>\n",
       "      <td>13404</td>\n",
       "      <td>13406</td>\n",
       "      <td>13406</td>\n",
       "      <td>13406</td>\n",
       "      <td>13406</td>\n",
       "      <td>11718</td>\n",
       "      <td>13406</td>\n",
       "      <td>13406</td>\n",
       "      <td>13406</td>\n",
       "    </tr>\n",
       "  </tbody>\n",
       "</table>\n",
       "<p>2 rows × 29 columns</p>\n",
       "</div>"
      ],
      "text/plain": [
       "        id_guest_anon  id_host_anon  id_listing_anon  ts_interaction_first  \\\n",
       "booked                                                                       \n",
       "0                6452          6452             6452                  6452   \n",
       "1               13406         13406            13406                 13406   \n",
       "\n",
       "        ts_reply_at_first  ts_accepted_at_first  ts_booking_at  \\\n",
       "booked                                                           \n",
       "0                    5062                    54              0   \n",
       "1                   13404                 13406          13406   \n",
       "\n",
       "        ds_checkin_first  ds_checkout_first  m_guests_first    ...      \\\n",
       "booked                                                         ...       \n",
       "0                   6452               6452            6440    ...       \n",
       "1                  13406              13406           13383    ...       \n",
       "\n",
       "        response_delay  accept_delay  guest_host  index1  guest_checkins  \\\n",
       "booked                                                                     \n",
       "0                 5062            54        6452    6452            6452   \n",
       "1                13404         13404       13406   13406           13406   \n",
       "\n",
       "        host_demand  concurrent_listing  holiday  start_month  start_day  \n",
       "booked                                                                    \n",
       "0              6452                5015     6452         6452       6452  \n",
       "1             13406               11718    13406        13406      13406  \n",
       "\n",
       "[2 rows x 29 columns]"
      ]
     },
     "execution_count": 18,
     "metadata": {},
     "output_type": "execute_result"
    }
   ],
   "source": [
    "contacts_df.groupby('booked').count()"
   ]
  },
  {
   "cell_type": "markdown",
   "metadata": {},
   "source": [
    "Interestingly, only 54 of the guests who were accepted chose to forego the arrangment. \n",
    "This is less than 1% so I'm not going to look into it."
   ]
  },
  {
   "cell_type": "code",
   "execution_count": 170,
   "metadata": {},
   "outputs": [
    {
     "data": {
      "text/html": [
       "<div>\n",
       "<style>\n",
       "    .dataframe thead tr:only-child th {\n",
       "        text-align: right;\n",
       "    }\n",
       "\n",
       "    .dataframe thead th {\n",
       "        text-align: left;\n",
       "    }\n",
       "\n",
       "    .dataframe tbody tr th {\n",
       "        vertical-align: top;\n",
       "    }\n",
       "</style>\n",
       "<table border=\"1\" class=\"dataframe\">\n",
       "  <thead>\n",
       "    <tr style=\"text-align: right;\">\n",
       "      <th></th>\n",
       "      <th>m_guests_first</th>\n",
       "      <th>m_interactions</th>\n",
       "      <th>m_first_message_length_in_characters</th>\n",
       "      <th>dim_room_type</th>\n",
       "      <th>dim_total_reviews</th>\n",
       "      <th>dim_person_capacity</th>\n",
       "      <th>dim_guest_language</th>\n",
       "      <th>dim_host_language</th>\n",
       "      <th>days_diff</th>\n",
       "      <th>response_delay</th>\n",
       "      <th>accept_delay</th>\n",
       "      <th>guest_host</th>\n",
       "      <th>concurrent_listing</th>\n",
       "      <th>holiday</th>\n",
       "      <th>start_month</th>\n",
       "      <th>start_day</th>\n",
       "      <th>guest_checkins</th>\n",
       "      <th>host_demand</th>\n",
       "    </tr>\n",
       "    <tr>\n",
       "      <th>booked</th>\n",
       "      <th></th>\n",
       "      <th></th>\n",
       "      <th></th>\n",
       "      <th></th>\n",
       "      <th></th>\n",
       "      <th></th>\n",
       "      <th></th>\n",
       "      <th></th>\n",
       "      <th></th>\n",
       "      <th></th>\n",
       "      <th></th>\n",
       "      <th></th>\n",
       "      <th></th>\n",
       "      <th></th>\n",
       "      <th></th>\n",
       "      <th></th>\n",
       "      <th></th>\n",
       "      <th></th>\n",
       "    </tr>\n",
       "  </thead>\n",
       "  <tbody>\n",
       "    <tr>\n",
       "      <th>0</th>\n",
       "      <td>2.343789</td>\n",
       "      <td>3.633447</td>\n",
       "      <td>236.158091</td>\n",
       "      <td>0.469002</td>\n",
       "      <td>29.627247</td>\n",
       "      <td>3.867793</td>\n",
       "      <td>9124.559361</td>\n",
       "      <td>2.933354</td>\n",
       "      <td>4.877712</td>\n",
       "      <td>35.158126</td>\n",
       "      <td>14.492968</td>\n",
       "      <td>0.003100</td>\n",
       "      <td>1.594816</td>\n",
       "      <td>0.215747</td>\n",
       "      <td>8.169095</td>\n",
       "      <td>16.258989</td>\n",
       "      <td>0.079820</td>\n",
       "      <td>29.347024</td>\n",
       "    </tr>\n",
       "    <tr>\n",
       "      <th>1</th>\n",
       "      <td>2.327281</td>\n",
       "      <td>8.669178</td>\n",
       "      <td>251.621811</td>\n",
       "      <td>0.325004</td>\n",
       "      <td>58.292929</td>\n",
       "      <td>3.720797</td>\n",
       "      <td>10315.418171</td>\n",
       "      <td>2.936148</td>\n",
       "      <td>4.517753</td>\n",
       "      <td>5.341109</td>\n",
       "      <td>6.659590</td>\n",
       "      <td>0.001492</td>\n",
       "      <td>1.481567</td>\n",
       "      <td>0.155005</td>\n",
       "      <td>7.249888</td>\n",
       "      <td>15.804789</td>\n",
       "      <td>0.077279</td>\n",
       "      <td>26.051320</td>\n",
       "    </tr>\n",
       "  </tbody>\n",
       "</table>\n",
       "</div>"
      ],
      "text/plain": [
       "        m_guests_first  m_interactions  m_first_message_length_in_characters  \\\n",
       "booked                                                                         \n",
       "0             2.343789        3.633447                            236.158091   \n",
       "1             2.327281        8.669178                            251.621811   \n",
       "\n",
       "        dim_room_type  dim_total_reviews  dim_person_capacity  \\\n",
       "booked                                                          \n",
       "0            0.469002          29.627247             3.867793   \n",
       "1            0.325004          58.292929             3.720797   \n",
       "\n",
       "        dim_guest_language  dim_host_language  days_diff  response_delay  \\\n",
       "booked                                                                     \n",
       "0              9124.559361           2.933354   4.877712       35.158126   \n",
       "1             10315.418171           2.936148   4.517753        5.341109   \n",
       "\n",
       "        accept_delay  guest_host  concurrent_listing   holiday  start_month  \\\n",
       "booked                                                                        \n",
       "0          14.492968    0.003100            1.594816  0.215747     8.169095   \n",
       "1           6.659590    0.001492            1.481567  0.155005     7.249888   \n",
       "\n",
       "        start_day  guest_checkins  host_demand  \n",
       "booked                                          \n",
       "0       16.258989        0.079820    29.347024  \n",
       "1       15.804789        0.077279    26.051320  "
      ]
     },
     "execution_count": 170,
     "metadata": {},
     "output_type": "execute_result"
    }
   ],
   "source": [
    "contact_means = contacts_df.groupby('booked').mean()\n",
    "contact_means"
   ]
  },
  {
   "cell_type": "markdown",
   "metadata": {},
   "source": [
    "The mean response delays are far off. this is a likely cause for conversion rates being so different.\n",
    "Holidays are overrepresented in the negative booking case, and more reviews seem to relate to better booking chances. Message length seems uninteresting. Bookings also have more guests with previous bookings. "
   ]
  },
  {
   "cell_type": "markdown",
   "metadata": {},
   "source": [
    "Moving on..."
   ]
  },
  {
   "cell_type": "code",
   "execution_count": 171,
   "metadata": {
    "collapsed": true
   },
   "outputs": [],
   "source": [
    "plt.rcParams[\"axes.labelsize\"] = 16\n",
    "plt.rcParams[\"xtick.labelsize\"] = 14\n",
    "plt.rcParams[\"ytick.labelsize\"] = 14\n",
    "plt.rcParams[\"legend.fontsize\"] = 12\n",
    "plt.rcParams[\"figure.figsize\"] = [15, 7]"
   ]
  },
  {
   "cell_type": "code",
   "execution_count": 177,
   "metadata": {},
   "outputs": [
    {
     "data": {
      "text/plain": [
       "booked\n",
       "0    Axes(0.125,0.125;0.775x0.775)\n",
       "1    Axes(0.125,0.125;0.775x0.775)\n",
       "Name: dim_total_reviews, dtype: object"
      ]
     },
     "execution_count": 177,
     "metadata": {},
     "output_type": "execute_result"
    },
    {
     "data": {
      "image/png": "[encoded data removed]",
      "text/plain": [
       "<matplotlib.figure.Figure at 0x10f7eb510>"
      ]
     },
     "metadata": {},
     "output_type": "display_data"
    }
   ],
   "source": [
    "fig, ax = plt.subplots(figsize=(8,6))\n",
    "contacts_df.groupby('booked')['dim_total_reviews'].plot(kind='kde', ax=ax)"
   ]
  },
  {
   "cell_type": "markdown",
   "metadata": {},
   "source": [
    "Booked listings tend to have more reviews."
   ]
  },
  {
   "cell_type": "markdown",
   "metadata": {},
   "source": [
    "Let's do some ML"
   ]
  },
  {
   "cell_type": "code",
   "execution_count": 19,
   "metadata": {
    "collapsed": true
   },
   "outputs": [],
   "source": [
    "lb = LabelEncoder()\n",
    "contacts_df['dim_room_type'] = lb.fit_transform(contacts_df['dim_room_type'])\n",
    "contacts_df['dim_host_language'] = lb.fit_transform(contacts_df['dim_host_language'])\n",
    "contacts_df['dim_guest_language'] = lb.fit_transform(contacts_df['dim_guest_language'])"
   ]
  },
  {
   "cell_type": "markdown",
   "metadata": {},
   "source": [
    "<b>Drop the nulls in response_delay because it's only 6% of the data. discretize on the accept_delay column</b>"
   ]
  },
  {
   "cell_type": "code",
   "execution_count": 20,
   "metadata": {
    "collapsed": true
   },
   "outputs": [],
   "source": [
    "subset_df = contacts_df[['m_guests_first', 'm_interactions', 'm_first_message_length_in_characters', 'dim_room_type', \n",
    "                        'dim_total_reviews', 'dim_person_capacity', 'dim_host_language',\n",
    "                        'days_diff', 'response_delay', 'accept_delay', 'concurrent_listing', 'holiday', \n",
    "                        'start_month', 'start_day', 'booked', 'guest_host', 'guest_checkins', 'host_demand']]\n",
    "subset_df = subset_df[subset_df['m_guests_first'].notnull()]\n",
    "subset_df = subset_df[subset_df['response_delay'].notnull()]"
   ]
  },
  {
   "cell_type": "code",
   "execution_count": 182,
   "metadata": {
    "collapsed": true
   },
   "outputs": [],
   "source": [
    "#CREATE A CATEGORICAL FEATURE for accept_delay: \n",
    "def label_delay (row):\n",
    "   if row['accept_delay'] <= 24 :\n",
    "      return '1day'\n",
    "   elif row['accept_delay'] <= 48: \n",
    "      return '2day'\n",
    "   elif row['accept_delay'] <= 72:\n",
    "      return '3day'\n",
    "   elif row['accept_delay'] <= 168:\n",
    "      return '1week'\n",
    "   elif row['accept_delay']  <= 336:\n",
    "      return '2week'\n",
    "   elif row['accept_delay'] <= 504:\n",
    "      return '3week'\n",
    "   else:\n",
    "      return 'NO'"
   ]
  },
  {
   "cell_type": "markdown",
   "metadata": {},
   "source": [
    "#### <b>Using accept_delay is actually not very insightful as this single feature predicts almost perfectly on its own, but it's like a tautology. So sadly, I'm going to drop it from the model.</b>"
   ]
  },
  {
   "cell_type": "code",
   "execution_count": 184,
   "metadata": {
    "collapsed": true
   },
   "outputs": [],
   "source": [
    "subset_df['delay_label'] = subset_df.apply(lambda row: label_delay(row),axis=1)\n",
    "subset_df['delay_label'] = lb.fit_transform(subset_df['delay_label'])\n",
    "\n",
    "X = subset_df.drop(['booked','accept_delay'], axis = 1)\n",
    "Y = subset_df['booked']"
   ]
  },
  {
   "cell_type": "code",
   "execution_count": 185,
   "metadata": {},
   "outputs": [
    {
     "data": {
      "text/plain": [
       "booked\n",
       "0     5053\n",
       "1    13381\n",
       "Name: booked, dtype: int64"
      ]
     },
     "execution_count": 185,
     "metadata": {},
     "output_type": "execute_result"
    }
   ],
   "source": [
    "subset_df.groupby('booked')['booked'].count()"
   ]
  },
  {
   "cell_type": "markdown",
   "metadata": {},
   "source": [
    "We can see a pretty sizable class-imbalance here. "
   ]
  },
  {
   "cell_type": "code",
   "execution_count": 186,
   "metadata": {
    "collapsed": true
   },
   "outputs": [],
   "source": [
    "X['concurrent_listing'].fillna(1, inplace = True) #I'll just say that it's the only one in this case\n",
    "X = X.drop('delay_label', axis = 1)"
   ]
  },
  {
   "cell_type": "code",
   "execution_count": 310,
   "metadata": {
    "collapsed": true
   },
   "outputs": [],
   "source": [
    "X_train, X_test, Y_train, Y_test = train_test_split(X,Y)"
   ]
  },
  {
   "cell_type": "markdown",
   "metadata": {},
   "source": [
    "This does not perform that well at determining if a guest will fail to acquire a booking. There is a significant amount of class-imbalance that we can account for. "
   ]
  },
  {
   "cell_type": "code",
   "execution_count": 327,
   "metadata": {
    "collapsed": true
   },
   "outputs": [],
   "source": [
    "s_weights = np.where(Y_train == 1, 2.6, 1)  #Play with this value more. \n",
    "gbt = GradientBoostingClassifier()\n",
    "parameters = [{\n",
    "        'n_estimators': [50],\n",
    "        'max_depth': (30,50),\n",
    "        'min_samples_split': (2,3),\n",
    "        'min_samples_leaf': (15,20),\n",
    "    }]\n",
    "grid_search = GridSearchCV(gbt, parameters, n_jobs= -1, error_score= 0, fit_params={'sample_weight': s_weights})\n",
    "grid_search = grid_search.fit(X_train, Y_train)"
   ]
  },
  {
   "cell_type": "code",
   "execution_count": 328,
   "metadata": {},
   "outputs": [
    {
     "data": {
      "text/plain": [
       "{'max_depth': 50,\n",
       " 'min_samples_leaf': 20,\n",
       " 'min_samples_split': 2,\n",
       " 'n_estimators': 50}"
      ]
     },
     "execution_count": 328,
     "metadata": {},
     "output_type": "execute_result"
    }
   ],
   "source": [
    "preds = grid_search.predict(X_test)\n",
    "grid_search.best_params_"
   ]
  },
  {
   "cell_type": "code",
   "execution_count": 329,
   "metadata": {},
   "outputs": [
    {
     "name": "stdout",
     "output_type": "stream",
     "text": [
      "             precision    recall  f1-score   support\n",
      "\n",
      "          0       0.79      0.51      0.62      1314\n",
      "          1       0.83      0.95      0.88      3295\n",
      "\n",
      "avg / total       0.82      0.82      0.81      4609\n",
      "\n"
     ]
    }
   ],
   "source": [
    "print classification_report(Y_test, preds)"
   ]
  },
  {
   "cell_type": "markdown",
   "metadata": {},
   "source": [
    "The recall is pretty bad for the failed bookings. This will need more tuning."
   ]
  },
  {
   "cell_type": "code",
   "execution_count": 333,
   "metadata": {},
   "outputs": [
    {
     "data": {
      "text/plain": [
       "GradientBoostingClassifier(criterion='friedman_mse', init=None,\n",
       "              learning_rate=0.1, loss='deviance', max_depth=50,\n",
       "              max_features=None, max_leaf_nodes=None,\n",
       "              min_impurity_split=1e-07, min_samples_leaf=20,\n",
       "              min_samples_split=2, min_weight_fraction_leaf=0.0,\n",
       "              n_estimators=50, presort='auto', random_state=None,\n",
       "              subsample=1.0, verbose=0, warm_start=False)"
      ]
     },
     "execution_count": 333,
     "metadata": {},
     "output_type": "execute_result"
    }
   ],
   "source": [
    "best_forest = grid_search.best_estimator_\n",
    "best_forest"
   ]
  },
  {
   "cell_type": "code",
   "execution_count": 334,
   "metadata": {
    "collapsed": true
   },
   "outputs": [],
   "source": [
    "importances = best_forest.feature_importances_"
   ]
  },
  {
   "cell_type": "code",
   "execution_count": 335,
   "metadata": {
    "collapsed": true
   },
   "outputs": [],
   "source": [
    "features = X_train.columns.values"
   ]
  },
  {
   "cell_type": "code",
   "execution_count": 336,
   "metadata": {
    "scrolled": true
   },
   "outputs": [
    {
     "data": {
      "image/png": "[encoded data removed]",
      "text/plain": [
       "<matplotlib.figure.Figure at 0x1107ad590>"
      ]
     },
     "metadata": {},
     "output_type": "display_data"
    }
   ],
   "source": [
    "std = np.std([tree[0].feature_importances_ for tree in [tree_list for tree_list in best_forest.estimators_]],\n",
    "            axis=0)\n",
    "indices = np.argsort(importances)[::-1]\n",
    "plt.figure()\n",
    "plt.title(\"Feature importances\")\n",
    "plt.bar(range(X_train.shape[1]), importances[indices],yerr=std[indices],\n",
    "       color=\"r\", align=\"center\")\n",
    "plt.xticks(range(X_train.shape[1]), indices)\n",
    "plt.xlim([-1, X_train.shape[1]])\n",
    "plt.show()"
   ]
  },
  {
   "cell_type": "code",
   "execution_count": 341,
   "metadata": {},
   "outputs": [
    {
     "data": {
      "text/plain": [
       "['response_delay',\n",
       " 'dim_total_reviews',\n",
       " 'm_first_message_length_in_characters',\n",
       " 'm_interactions',\n",
       " 'host_demand',\n",
       " 'start_day',\n",
       " 'start_month',\n",
       " 'days_diff',\n",
       " 'dim_person_capacity',\n",
       " 'm_guests_first',\n",
       " 'concurrent_listing',\n",
       " 'dim_room_type',\n",
       " 'holiday',\n",
       " 'dim_host_language',\n",
       " 'guest_checkins',\n",
       " 'guest_host']"
      ]
     },
     "execution_count": 341,
     "metadata": {},
     "output_type": "execute_result"
    }
   ],
   "source": [
    "best_forest.feature_importances_\n",
    "feat_names = X_train.columns.values\n",
    "feat_rank = [feat_names[i] for i in indices]\n",
    "feat_rank"
   ]
  },
  {
   "cell_type": "code",
   "execution_count": 348,
   "metadata": {},
   "outputs": [
    {
     "data": {
      "image/png": "[encoded data removed]",
      "text/plain": [
       "<matplotlib.figure.Figure at 0x1145bf350>"
      ]
     },
     "metadata": {},
     "output_type": "display_data"
    }
   ],
   "source": [
    "#Delays on response are the biggest indicator that the guest will not book! \n",
    "import sklearn.ensemble.partial_dependence\n",
    "from sklearn.ensemble.partial_dependence import plot_partial_dependence\n",
    "fig, axs = plot_partial_dependence(best_forest, X_train, [8,4,(8,4)], feature_names = feat_names) "
   ]
  },
  {
   "cell_type": "markdown",
   "metadata": {},
   "source": [
    "The partial dependence shows the logit of the probabilities. Negative is equivalent to $p(booking) < .5$\n",
    "\n",
    "We have an idea for one side of the market -- the host side. But we should also figure out how guests can increase their booking rates too."
   ]
  },
  {
   "cell_type": "markdown",
   "metadata": {},
   "source": [
    "## B. Guest side"
   ]
  },
  {
   "cell_type": "markdown",
   "metadata": {},
   "source": [
    "Almost 1/3 of the data has overlapping bookings. We need to know what made the guests who got the booking successful."
   ]
  },
  {
   "cell_type": "code",
   "execution_count": 182,
   "metadata": {},
   "outputs": [],
   "source": [
    "compete_df = contacts_df\n",
    "compete_df['index1'] = contacts_df.index\n",
    "compete_df = pd.merge(compete_df, compete_df, on=['id_listing_anon'], suffixes=['','_compare'])\n",
    "compete_df['msg_len_diff'] = pd.Series(0, index=contacts_df.index)\n",
    "compete_df['m_guest_diff'] = pd.Series(0, index=contacts_df.index)\n",
    "compete_df['guest_check_diff'] = pd.Series(0, index=contacts_df.index)\n",
    "compete_df['guest_days_diff'] = pd.Series(0, index=contacts_df.index)\n",
    "\n",
    "for index, row in compete_df[['concurrent_listing','id_listing_anon','m_first_message_length_in_characters',\n",
    "                             'm_guests_first','guest_checkins','days_diff']].iterrows():\n",
    "    #there's an overlap\n",
    "    if row['concurrent_listing'] > 1:\n",
    "        #What's difference between the users? I'm only going to check a few actionable variables here. \n",
    "        winning_row = compete_df[(compete_df['id_listing_anon'] == row['id_listing_anon']) &\n",
    "                                (compete_df['booked'] == 1)]\n",
    "        \n",
    "        compete_df.loc[index, 'msg_len_diff'] = winning_row['m_first_message_length_in_characters'].mean() - row['m_first_message_length_in_characters']\n",
    "        compete_df.loc[index, 'm_guest_diff'] = winning_row['m_guests_first'].mean() - row['m_guests_first']\n",
    "        compete_df.loc[index, 'guest_check_diff'] = winning_row['guest_checkins'].mean() - row['guest_checkins']\n",
    "        compete_df.loc[index, 'guest_days_diff'] = winning_row['days_diff'].mean() - row['days_diff']\n",
    "    else:\n",
    "        continue "
   ]
  },
  {
   "cell_type": "code",
   "execution_count": 184,
   "metadata": {},
   "outputs": [],
   "source": [
    "compete_df.to_csv('./compete.csv', header = True)"
   ]
  },
  {
   "cell_type": "code",
   "execution_count": 56,
   "metadata": {
    "collapsed": true
   },
   "outputs": [],
   "source": [
    "compete_df = pd.read_csv('./compete.csv')"
   ]
  },
  {
   "cell_type": "markdown",
   "metadata": {},
   "source": [
    "I want a simple visualization of what influences this outcome, so I'm going to use a decision tree. "
   ]
  },
  {
   "cell_type": "code",
   "execution_count": null,
   "metadata": {
    "collapsed": true
   },
   "outputs": [],
   "source": [
    "diff_params = ['msg_len_diff', 'm_guest_diff', 'guest_check_diff','guest_days_diff', 'booked']"
   ]
  },
  {
   "cell_type": "code",
   "execution_count": 69,
   "metadata": {},
   "outputs": [],
   "source": [
    "grouped = compete_df.groupby('index1')[diff_params]"
   ]
  },
  {
   "cell_type": "code",
   "execution_count": 71,
   "metadata": {},
   "outputs": [],
   "source": [
    "dt_df = grouped.agg('mean').dropna()"
   ]
  },
  {
   "cell_type": "code",
   "execution_count": 79,
   "metadata": {},
   "outputs": [
    {
     "data": {
      "text/plain": [
       "GridSearchCV(cv=None, error_score=0,\n",
       "       estimator=Pipeline(steps=[('clf', DecisionTreeClassifier(class_weight=None, criterion='entropy', max_depth=None,\n",
       "            max_features=None, max_leaf_nodes=None,\n",
       "            min_impurity_split=1e-07, min_samples_leaf=1,\n",
       "            min_samples_split=2, min_weight_fraction_leaf=0.0,\n",
       "            presort=False, random_state=None, splitter='best'))]),\n",
       "       fit_params={}, iid=True, n_jobs=-1,\n",
       "       param_grid=[{'clf__max_depth': (5, 8, 10, 15), 'clf__min_samples_leaf': (5, 10, 15, 20, 25, 30), 'clf__min_samples_split': (3, 5, 7, 10, 20)}],\n",
       "       pre_dispatch='2*n_jobs', refit=True, scoring=None, verbose=0)"
      ]
     },
     "execution_count": 79,
     "metadata": {},
     "output_type": "execute_result"
    }
   ],
   "source": [
    "X = dt_df[['msg_len_diff', 'm_guest_diff', 'guest_check_diff','guest_days_diff']]\n",
    "Y = dt_df['booked']\n",
    "X_train, X_test, Y_train, Y_test = train_test_split(X,Y)\n",
    "\n",
    "from sklearn.tree import DecisionTreeClassifier\n",
    "pipeline = Pipeline(steps = [('clf', DecisionTreeClassifier(criterion = 'entropy'))])\n",
    "parameters = [{\n",
    "        'clf__max_depth': (5,8,10,15),\n",
    "        'clf__min_samples_split': (3,5,7,10,20),\n",
    "        'clf__min_samples_leaf': (5,10,15,20,25,30)\n",
    "    }]\n",
    "grid_search = GridSearchCV(pipeline, parameters, n_jobs= -1, error_score= 0)\n",
    "grid_search.fit(X_train, Y_train)\n",
    "    "
   ]
  },
  {
   "cell_type": "code",
   "execution_count": 80,
   "metadata": {},
   "outputs": [
    {
     "data": {
      "text/plain": [
       "{'clf__max_depth': 5, 'clf__min_samples_leaf': 5, 'clf__min_samples_split': 3}"
      ]
     },
     "execution_count": 80,
     "metadata": {},
     "output_type": "execute_result"
    }
   ],
   "source": [
    "grid_search.best_params_"
   ]
  },
  {
   "cell_type": "code",
   "execution_count": 81,
   "metadata": {},
   "outputs": [
    {
     "name": "stdout",
     "output_type": "stream",
     "text": [
      "             precision    recall  f1-score   support\n",
      "\n",
      "          0       0.68      0.10      0.17       389\n",
      "          1       0.71      0.98      0.82       882\n",
      "\n",
      "avg / total       0.70      0.71      0.63      1271\n",
      "\n"
     ]
    }
   ],
   "source": [
    "preds = grid_search.predict(X_test)\n",
    "print classification_report(Y_test, preds)"
   ]
  },
  {
   "cell_type": "code",
   "execution_count": 82,
   "metadata": {},
   "outputs": [],
   "source": [
    "d_tree = grid_search.best_estimator_\n",
    "d_tree = d_tree.get_params()['clf']"
   ]
  },
  {
   "cell_type": "code",
   "execution_count": 87,
   "metadata": {},
   "outputs": [],
   "source": [
    "import graphviz \n",
    "from sklearn import tree\n",
    "dot_data = tree.export_graphviz(d_tree, out_file=None, feature_names=['msg_len_diff', 'm_guest_diff', 'guest_check_diff','guest_days_diff']) "
   ]
  },
  {
   "cell_type": "code",
   "execution_count": 86,
   "metadata": {},
   "outputs": [
    {
     "data": {
      "image/svg+xml": [
       "<?xml version=\"1.0\" encoding=\"UTF-8\" standalone=\"no\"?>\n",
       "<!DOCTYPE svg PUBLIC \"-//W3C//DTD SVG 1.1//EN\"\n",
       " \"http://www.w3.org/Graphics/SVG/1.1/DTD/svg11.dtd\">\n",
       "<!-- Generated by graphviz version 2.40.1 (20161225.0304)\n",
       " -->\n",
       "<!-- Title: Tree Pages: 1 -->\n",
       "<svg width=\"2500pt\" height=\"558pt\"\n",
       " viewBox=\"0.00 0.00 2499.85 558.00\" xmlns=\"http://www.w3.org/2000/svg\" xmlns:xlink=\"http://www.w3.org/1999/xlink\">\n",
       "<g id=\"graph0\" class=\"graph\" transform=\"scale(1 1) rotate(0) translate(4 554)\">\n",
       "<title>Tree</title>\n",
       "<polygon fill=\"#ffffff\" stroke=\"transparent\" points=\"-4,4 -4,-554 2495.8491,-554 2495.8491,4 -4,4\"/>\n",
       "<!-- 0 -->\n",
       "<g id=\"node1\" class=\"node\">\n",
       "<title>0</title>\n",
       "<polygon fill=\"none\" stroke=\"#000000\" points=\"1278.7213,-550 1104.8158,-550 1104.8158,-486 1278.7213,-486 1278.7213,-550\"/>\n",
       "<text text-anchor=\"middle\" x=\"1191.7686\" y=\"-534.8\" font-family=\"Times,serif\" font-size=\"14.00\" fill=\"#000000\">guest_check_diff &lt;= 0.1347</text>\n",
       "<text text-anchor=\"middle\" x=\"1191.7686\" y=\"-520.8\" font-family=\"Times,serif\" font-size=\"14.00\" fill=\"#000000\">entropy = 0.8703</text>\n",
       "<text text-anchor=\"middle\" x=\"1191.7686\" y=\"-506.8\" font-family=\"Times,serif\" font-size=\"14.00\" fill=\"#000000\">samples = 3811</text>\n",
       "<text text-anchor=\"middle\" x=\"1191.7686\" y=\"-492.8\" font-family=\"Times,serif\" font-size=\"14.00\" fill=\"#000000\">value = [1110, 2701]</text>\n",
       "</g>\n",
       "<!-- 1 -->\n",
       "<g id=\"node2\" class=\"node\">\n",
       "<title>1</title>\n",
       "<polygon fill=\"none\" stroke=\"#000000\" points=\"1175.9691,-450 1031.568,-450 1031.568,-386 1175.9691,-386 1175.9691,-450\"/>\n",
       "<text text-anchor=\"middle\" x=\"1103.7686\" y=\"-434.8\" font-family=\"Times,serif\" font-size=\"14.00\" fill=\"#000000\">msg_len_diff &lt;= 391.8</text>\n",
       "<text text-anchor=\"middle\" x=\"1103.7686\" y=\"-420.8\" font-family=\"Times,serif\" font-size=\"14.00\" fill=\"#000000\">entropy = 0.8267</text>\n",
       "<text text-anchor=\"middle\" x=\"1103.7686\" y=\"-406.8\" font-family=\"Times,serif\" font-size=\"14.00\" fill=\"#000000\">samples = 3208</text>\n",
       "<text text-anchor=\"middle\" x=\"1103.7686\" y=\"-392.8\" font-family=\"Times,serif\" font-size=\"14.00\" fill=\"#000000\">value = [834, 2374]</text>\n",
       "</g>\n",
       "<!-- 0&#45;&gt;1 -->\n",
       "<g id=\"edge1\" class=\"edge\">\n",
       "<title>0&#45;&gt;1</title>\n",
       "<path fill=\"none\" stroke=\"#000000\" d=\"M1163.4404,-485.8089C1155.5897,-476.8877 1146.9733,-467.0963 1138.7897,-457.7968\"/>\n",
       "<polygon fill=\"#000000\" stroke=\"#000000\" points=\"1141.2774,-455.3257 1132.0436,-450.1308 1136.0224,-459.9501 1141.2774,-455.3257\"/>\n",
       "<text text-anchor=\"middle\" x=\"1130.4511\" y=\"-470.88\" font-family=\"Times,serif\" font-size=\"14.00\" fill=\"#000000\">True</text>\n",
       "</g>\n",
       "<!-- 20 -->\n",
       "<g id=\"node21\" class=\"node\">\n",
       "<title>20</title>\n",
       "<polygon fill=\"none\" stroke=\"#000000\" points=\"1392.469,-450 1241.0681,-450 1241.0681,-386 1392.469,-386 1392.469,-450\"/>\n",
       "<text text-anchor=\"middle\" x=\"1316.7686\" y=\"-434.8\" font-family=\"Times,serif\" font-size=\"14.00\" fill=\"#000000\">m_guest_diff &lt;= 0.9583</text>\n",
       "<text text-anchor=\"middle\" x=\"1316.7686\" y=\"-420.8\" font-family=\"Times,serif\" font-size=\"14.00\" fill=\"#000000\">entropy = 0.9948</text>\n",
       "<text text-anchor=\"middle\" x=\"1316.7686\" y=\"-406.8\" font-family=\"Times,serif\" font-size=\"14.00\" fill=\"#000000\">samples = 603</text>\n",
       "<text text-anchor=\"middle\" x=\"1316.7686\" y=\"-392.8\" font-family=\"Times,serif\" font-size=\"14.00\" fill=\"#000000\">value = [276, 327]</text>\n",
       "</g>\n",
       "<!-- 0&#45;&gt;20 -->\n",
       "<g id=\"edge20\" class=\"edge\">\n",
       "<title>0&#45;&gt;20</title>\n",
       "<path fill=\"none\" stroke=\"#000000\" d=\"M1232.0074,-485.8089C1243.7165,-476.4416 1256.6248,-466.115 1268.7614,-456.4057\"/>\n",
       "<polygon fill=\"#000000\" stroke=\"#000000\" points=\"1270.9828,-459.1108 1276.6051,-450.1308 1266.6099,-453.6447 1270.9828,-459.1108\"/>\n",
       "<text text-anchor=\"middle\" x=\"1273.8443\" y=\"-470.7779\" font-family=\"Times,serif\" font-size=\"14.00\" fill=\"#000000\">False</text>\n",
       "</g>\n",
       "<!-- 2 -->\n",
       "<g id=\"node3\" class=\"node\">\n",
       "<title>2</title>\n",
       "<polygon fill=\"none\" stroke=\"#000000\" points=\"922.2419,-350 755.2952,-350 755.2952,-286 922.2419,-286 922.2419,-350\"/>\n",
       "<text text-anchor=\"middle\" x=\"838.7686\" y=\"-334.8\" font-family=\"Times,serif\" font-size=\"14.00\" fill=\"#000000\">guest_days_diff &lt;= 2.4891</text>\n",
       "<text text-anchor=\"middle\" x=\"838.7686\" y=\"-320.8\" font-family=\"Times,serif\" font-size=\"14.00\" fill=\"#000000\">entropy = 0.8194</text>\n",
       "<text text-anchor=\"middle\" x=\"838.7686\" y=\"-306.8\" font-family=\"Times,serif\" font-size=\"14.00\" fill=\"#000000\">samples = 3186</text>\n",
       "<text text-anchor=\"middle\" x=\"838.7686\" y=\"-292.8\" font-family=\"Times,serif\" font-size=\"14.00\" fill=\"#000000\">value = [813, 2373]</text>\n",
       "</g>\n",
       "<!-- 1&#45;&gt;2 -->\n",
       "<g id=\"edge2\" class=\"edge\">\n",
       "<title>1&#45;&gt;2</title>\n",
       "<path fill=\"none\" stroke=\"#000000\" d=\"M1031.3561,-390.6746C1000.6712,-379.0953 964.5315,-365.4577 931.8967,-353.1427\"/>\n",
       "<polygon fill=\"#000000\" stroke=\"#000000\" points=\"932.9351,-349.7937 922.3434,-349.5377 930.4637,-356.3429 932.9351,-349.7937\"/>\n",
       "</g>\n",
       "<!-- 17 -->\n",
       "<g id=\"node18\" class=\"node\">\n",
       "<title>17</title>\n",
       "<polygon fill=\"none\" stroke=\"#000000\" points=\"1176.742,-350 1030.7951,-350 1030.7951,-286 1176.742,-286 1176.742,-350\"/>\n",
       "<text text-anchor=\"middle\" x=\"1103.7686\" y=\"-334.8\" font-family=\"Times,serif\" font-size=\"14.00\" fill=\"#000000\">guest_days_diff &lt;= 1.7</text>\n",
       "<text text-anchor=\"middle\" x=\"1103.7686\" y=\"-320.8\" font-family=\"Times,serif\" font-size=\"14.00\" fill=\"#000000\">entropy = 0.2668</text>\n",
       "<text text-anchor=\"middle\" x=\"1103.7686\" y=\"-306.8\" font-family=\"Times,serif\" font-size=\"14.00\" fill=\"#000000\">samples = 22</text>\n",
       "<text text-anchor=\"middle\" x=\"1103.7686\" y=\"-292.8\" font-family=\"Times,serif\" font-size=\"14.00\" fill=\"#000000\">value = [21, 1]</text>\n",
       "</g>\n",
       "<!-- 1&#45;&gt;17 -->\n",
       "<g id=\"edge17\" class=\"edge\">\n",
       "<title>1&#45;&gt;17</title>\n",
       "<path fill=\"none\" stroke=\"#000000\" d=\"M1103.7686,-385.8089C1103.7686,-377.6906 1103.7686,-368.8517 1103.7686,-360.3186\"/>\n",
       "<polygon fill=\"#000000\" stroke=\"#000000\" points=\"1107.2687,-360.1307 1103.7686,-350.1308 1100.2687,-360.1308 1107.2687,-360.1307\"/>\n",
       "</g>\n",
       "<!-- 3 -->\n",
       "<g id=\"node4\" class=\"node\">\n",
       "<title>3</title>\n",
       "<polygon fill=\"none\" stroke=\"#000000\" points=\"475.1313,-250 318.4058,-250 318.4058,-186 475.1313,-186 475.1313,-250\"/>\n",
       "<text text-anchor=\"middle\" x=\"396.7686\" y=\"-234.8\" font-family=\"Times,serif\" font-size=\"14.00\" fill=\"#000000\">m_guest_diff &lt;= &#45;4.0016</text>\n",
       "<text text-anchor=\"middle\" x=\"396.7686\" y=\"-220.8\" font-family=\"Times,serif\" font-size=\"14.00\" fill=\"#000000\">entropy = 0.7926</text>\n",
       "<text text-anchor=\"middle\" x=\"396.7686\" y=\"-206.8\" font-family=\"Times,serif\" font-size=\"14.00\" fill=\"#000000\">samples = 2901</text>\n",
       "<text text-anchor=\"middle\" x=\"396.7686\" y=\"-192.8\" font-family=\"Times,serif\" font-size=\"14.00\" fill=\"#000000\">value = [692, 2209]</text>\n",
       "</g>\n",
       "<!-- 2&#45;&gt;3 -->\n",
       "<g id=\"edge3\" class=\"edge\">\n",
       "<title>2&#45;&gt;3</title>\n",
       "<path fill=\"none\" stroke=\"#000000\" d=\"M755.3721,-299.132C678.1203,-281.6542 563.6118,-255.7473 484.8862,-237.9361\"/>\n",
       "<polygon fill=\"#000000\" stroke=\"#000000\" points=\"485.5129,-234.4895 474.9871,-235.6965 483.9682,-241.317 485.5129,-234.4895\"/>\n",
       "</g>\n",
       "<!-- 10 -->\n",
       "<g id=\"node11\" class=\"node\">\n",
       "<title>10</title>\n",
       "<polygon fill=\"none\" stroke=\"#000000\" points=\"914.469,-250 763.0681,-250 763.0681,-186 914.469,-186 914.469,-250\"/>\n",
       "<text text-anchor=\"middle\" x=\"838.7686\" y=\"-234.8\" font-family=\"Times,serif\" font-size=\"14.00\" fill=\"#000000\">m_guest_diff &lt;= 0.8944</text>\n",
       "<text text-anchor=\"middle\" x=\"838.7686\" y=\"-220.8\" font-family=\"Times,serif\" font-size=\"14.00\" fill=\"#000000\">entropy = 0.9835</text>\n",
       "<text text-anchor=\"middle\" x=\"838.7686\" y=\"-206.8\" font-family=\"Times,serif\" font-size=\"14.00\" fill=\"#000000\">samples = 285</text>\n",
       "<text text-anchor=\"middle\" x=\"838.7686\" y=\"-192.8\" font-family=\"Times,serif\" font-size=\"14.00\" fill=\"#000000\">value = [121, 164]</text>\n",
       "</g>\n",
       "<!-- 2&#45;&gt;10 -->\n",
       "<g id=\"edge10\" class=\"edge\">\n",
       "<title>2&#45;&gt;10</title>\n",
       "<path fill=\"none\" stroke=\"#000000\" d=\"M838.7686,-285.8089C838.7686,-277.6906 838.7686,-268.8517 838.7686,-260.3186\"/>\n",
       "<polygon fill=\"#000000\" stroke=\"#000000\" points=\"842.2687,-260.1307 838.7686,-250.1308 835.2687,-260.1308 842.2687,-260.1307\"/>\n",
       "</g>\n",
       "<!-- 4 -->\n",
       "<g id=\"node5\" class=\"node\">\n",
       "<title>4</title>\n",
       "<polygon fill=\"none\" stroke=\"#000000\" points=\"248.4562,-150 83.0809,-150 83.0809,-86 248.4562,-86 248.4562,-150\"/>\n",
       "<text text-anchor=\"middle\" x=\"165.7686\" y=\"-134.8\" font-family=\"Times,serif\" font-size=\"14.00\" fill=\"#000000\">msg_len_diff &lt;= 113.7308</text>\n",
       "<text text-anchor=\"middle\" x=\"165.7686\" y=\"-120.8\" font-family=\"Times,serif\" font-size=\"14.00\" fill=\"#000000\">entropy = 0.3912</text>\n",
       "<text text-anchor=\"middle\" x=\"165.7686\" y=\"-106.8\" font-family=\"Times,serif\" font-size=\"14.00\" fill=\"#000000\">samples = 13</text>\n",
       "<text text-anchor=\"middle\" x=\"165.7686\" y=\"-92.8\" font-family=\"Times,serif\" font-size=\"14.00\" fill=\"#000000\">value = [12, 1]</text>\n",
       "</g>\n",
       "<!-- 3&#45;&gt;4 -->\n",
       "<g id=\"edge4\" class=\"edge\">\n",
       "<title>3&#45;&gt;4</title>\n",
       "<path fill=\"none\" stroke=\"#000000\" d=\"M322.7255,-185.9467C299.3088,-175.8096 273.2707,-164.5377 249.241,-154.1352\"/>\n",
       "<polygon fill=\"#000000\" stroke=\"#000000\" points=\"250.3561,-150.8041 239.7886,-150.0433 247.5751,-157.228 250.3561,-150.8041\"/>\n",
       "</g>\n",
       "<!-- 7 -->\n",
       "<g id=\"node8\" class=\"node\">\n",
       "<title>7</title>\n",
       "<polygon fill=\"none\" stroke=\"#000000\" points=\"483.7213,-150 309.8158,-150 309.8158,-86 483.7213,-86 483.7213,-150\"/>\n",
       "<text text-anchor=\"middle\" x=\"396.7686\" y=\"-134.8\" font-family=\"Times,serif\" font-size=\"14.00\" fill=\"#000000\">guest_check_diff &lt;= 0.0728</text>\n",
       "<text text-anchor=\"middle\" x=\"396.7686\" y=\"-120.8\" font-family=\"Times,serif\" font-size=\"14.00\" fill=\"#000000\">entropy = 0.7874</text>\n",
       "<text text-anchor=\"middle\" x=\"396.7686\" y=\"-106.8\" font-family=\"Times,serif\" font-size=\"14.00\" fill=\"#000000\">samples = 2888</text>\n",
       "<text text-anchor=\"middle\" x=\"396.7686\" y=\"-92.8\" font-family=\"Times,serif\" font-size=\"14.00\" fill=\"#000000\">value = [680, 2208]</text>\n",
       "</g>\n",
       "<!-- 3&#45;&gt;7 -->\n",
       "<g id=\"edge7\" class=\"edge\">\n",
       "<title>3&#45;&gt;7</title>\n",
       "<path fill=\"none\" stroke=\"#000000\" d=\"M396.7686,-185.8089C396.7686,-177.6906 396.7686,-168.8517 396.7686,-160.3186\"/>\n",
       "<polygon fill=\"#000000\" stroke=\"#000000\" points=\"400.2687,-160.1307 396.7686,-150.1308 393.2687,-160.1308 400.2687,-160.1307\"/>\n",
       "</g>\n",
       "<!-- 5 -->\n",
       "<g id=\"node6\" class=\"node\">\n",
       "<title>5</title>\n",
       "<polygon fill=\"none\" stroke=\"#000000\" points=\"91.3068,-50 .2303,-50 .2303,0 91.3068,0 91.3068,-50\"/>\n",
       "<text text-anchor=\"middle\" x=\"45.7686\" y=\"-34.8\" font-family=\"Times,serif\" font-size=\"14.00\" fill=\"#000000\">entropy = 0.0</text>\n",
       "<text text-anchor=\"middle\" x=\"45.7686\" y=\"-20.8\" font-family=\"Times,serif\" font-size=\"14.00\" fill=\"#000000\">samples = 8</text>\n",
       "<text text-anchor=\"middle\" x=\"45.7686\" y=\"-6.8\" font-family=\"Times,serif\" font-size=\"14.00\" fill=\"#000000\">value = [8, 0]</text>\n",
       "</g>\n",
       "<!-- 4&#45;&gt;5 -->\n",
       "<g id=\"edge5\" class=\"edge\">\n",
       "<title>4&#45;&gt;5</title>\n",
       "<path fill=\"none\" stroke=\"#000000\" d=\"M124.4714,-85.9947C112.0138,-76.3401 98.361,-65.7592 85.9755,-56.1604\"/>\n",
       "<polygon fill=\"#000000\" stroke=\"#000000\" points=\"88.0929,-53.3733 78.0447,-50.014 83.8049,-58.9062 88.0929,-53.3733\"/>\n",
       "</g>\n",
       "<!-- 6 -->\n",
       "<g id=\"node7\" class=\"node\">\n",
       "<title>6</title>\n",
       "<polygon fill=\"none\" stroke=\"#000000\" points=\"221.9298,-50 109.6073,-50 109.6073,0 221.9298,0 221.9298,-50\"/>\n",
       "<text text-anchor=\"middle\" x=\"165.7686\" y=\"-34.8\" font-family=\"Times,serif\" font-size=\"14.00\" fill=\"#000000\">entropy = 0.7219</text>\n",
       "<text text-anchor=\"middle\" x=\"165.7686\" y=\"-20.8\" font-family=\"Times,serif\" font-size=\"14.00\" fill=\"#000000\">samples = 5</text>\n",
       "<text text-anchor=\"middle\" x=\"165.7686\" y=\"-6.8\" font-family=\"Times,serif\" font-size=\"14.00\" fill=\"#000000\">value = [4, 1]</text>\n",
       "</g>\n",
       "<!-- 4&#45;&gt;6 -->\n",
       "<g id=\"edge6\" class=\"edge\">\n",
       "<title>4&#45;&gt;6</title>\n",
       "<path fill=\"none\" stroke=\"#000000\" d=\"M165.7686,-85.9947C165.7686,-77.6273 165.7686,-68.5643 165.7686,-60.0478\"/>\n",
       "<polygon fill=\"#000000\" stroke=\"#000000\" points=\"169.2687,-60.014 165.7686,-50.014 162.2687,-60.0141 169.2687,-60.014\"/>\n",
       "</g>\n",
       "<!-- 8 -->\n",
       "<g id=\"node9\" class=\"node\">\n",
       "<title>8</title>\n",
       "<polygon fill=\"none\" stroke=\"#000000\" points=\"365.8065,-50 239.7306,-50 239.7306,0 365.8065,0 365.8065,-50\"/>\n",
       "<text text-anchor=\"middle\" x=\"302.7686\" y=\"-34.8\" font-family=\"Times,serif\" font-size=\"14.00\" fill=\"#000000\">entropy = 0.8069</text>\n",
       "<text text-anchor=\"middle\" x=\"302.7686\" y=\"-20.8\" font-family=\"Times,serif\" font-size=\"14.00\" fill=\"#000000\">samples = 2443</text>\n",
       "<text text-anchor=\"middle\" x=\"302.7686\" y=\"-6.8\" font-family=\"Times,serif\" font-size=\"14.00\" fill=\"#000000\">value = [604, 1839]</text>\n",
       "</g>\n",
       "<!-- 7&#45;&gt;8 -->\n",
       "<g id=\"edge8\" class=\"edge\">\n",
       "<title>7&#45;&gt;8</title>\n",
       "<path fill=\"none\" stroke=\"#000000\" d=\"M364.4191,-85.9947C355.0324,-76.7079 344.7795,-66.564 335.377,-57.2616\"/>\n",
       "<polygon fill=\"#000000\" stroke=\"#000000\" points=\"337.622,-54.5591 328.0516,-50.014 332.6987,-59.5353 337.622,-54.5591\"/>\n",
       "</g>\n",
       "<!-- 9 -->\n",
       "<g id=\"node10\" class=\"node\">\n",
       "<title>9</title>\n",
       "<polygon fill=\"none\" stroke=\"#000000\" points=\"496.8066,-50 384.7305,-50 384.7305,0 496.8066,0 496.8066,-50\"/>\n",
       "<text text-anchor=\"middle\" x=\"440.7686\" y=\"-34.8\" font-family=\"Times,serif\" font-size=\"14.00\" fill=\"#000000\">entropy = 0.6595</text>\n",
       "<text text-anchor=\"middle\" x=\"440.7686\" y=\"-20.8\" font-family=\"Times,serif\" font-size=\"14.00\" fill=\"#000000\">samples = 445</text>\n",
       "<text text-anchor=\"middle\" x=\"440.7686\" y=\"-6.8\" font-family=\"Times,serif\" font-size=\"14.00\" fill=\"#000000\">value = [76, 369]</text>\n",
       "</g>\n",
       "<!-- 7&#45;&gt;9 -->\n",
       "<g id=\"edge9\" class=\"edge\">\n",
       "<title>7&#45;&gt;9</title>\n",
       "<path fill=\"none\" stroke=\"#000000\" d=\"M411.9109,-85.9947C416.0001,-77.3515 420.4406,-67.966 424.5845,-59.2073\"/>\n",
       "<polygon fill=\"#000000\" stroke=\"#000000\" points=\"427.821,-60.5503 428.934,-50.014 421.4934,-57.5565 427.821,-60.5503\"/>\n",
       "</g>\n",
       "<!-- 11 -->\n",
       "<g id=\"node12\" class=\"node\">\n",
       "<title>11</title>\n",
       "<polygon fill=\"none\" stroke=\"#000000\" points=\"764.8828,-150 586.6543,-150 586.6543,-86 764.8828,-86 764.8828,-150\"/>\n",
       "<text text-anchor=\"middle\" x=\"675.7686\" y=\"-134.8\" font-family=\"Times,serif\" font-size=\"14.00\" fill=\"#000000\">guest_check_diff &lt;= &#45;0.9438</text>\n",
       "<text text-anchor=\"middle\" x=\"675.7686\" y=\"-120.8\" font-family=\"Times,serif\" font-size=\"14.00\" fill=\"#000000\">entropy = 0.9639</text>\n",
       "<text text-anchor=\"middle\" x=\"675.7686\" y=\"-106.8\" font-family=\"Times,serif\" font-size=\"14.00\" fill=\"#000000\">samples = 265</text>\n",
       "<text text-anchor=\"middle\" x=\"675.7686\" y=\"-92.8\" font-family=\"Times,serif\" font-size=\"14.00\" fill=\"#000000\">value = [103, 162]</text>\n",
       "</g>\n",
       "<!-- 10&#45;&gt;11 -->\n",
       "<g id=\"edge11\" class=\"edge\">\n",
       "<title>10&#45;&gt;11</title>\n",
       "<path fill=\"none\" stroke=\"#000000\" d=\"M786.2971,-185.8089C770.5921,-176.174 753.2329,-165.5241 737.0159,-155.575\"/>\n",
       "<polygon fill=\"#000000\" stroke=\"#000000\" points=\"738.4957,-152.3768 728.1417,-150.1308 734.8352,-158.3434 738.4957,-152.3768\"/>\n",
       "</g>\n",
       "<!-- 14 -->\n",
       "<g id=\"node15\" class=\"node\">\n",
       "<title>14</title>\n",
       "<polygon fill=\"none\" stroke=\"#000000\" points=\"934.469,-150 783.0681,-150 783.0681,-86 934.469,-86 934.469,-150\"/>\n",
       "<text text-anchor=\"middle\" x=\"858.7686\" y=\"-134.8\" font-family=\"Times,serif\" font-size=\"14.00\" fill=\"#000000\">m_guest_diff &lt;= 1.7158</text>\n",
       "<text text-anchor=\"middle\" x=\"858.7686\" y=\"-120.8\" font-family=\"Times,serif\" font-size=\"14.00\" fill=\"#000000\">entropy = 0.469</text>\n",
       "<text text-anchor=\"middle\" x=\"858.7686\" y=\"-106.8\" font-family=\"Times,serif\" font-size=\"14.00\" fill=\"#000000\">samples = 20</text>\n",
       "<text text-anchor=\"middle\" x=\"858.7686\" y=\"-92.8\" font-family=\"Times,serif\" font-size=\"14.00\" fill=\"#000000\">value = [18, 2]</text>\n",
       "</g>\n",
       "<!-- 10&#45;&gt;14 -->\n",
       "<g id=\"edge14\" class=\"edge\">\n",
       "<title>10&#45;&gt;14</title>\n",
       "<path fill=\"none\" stroke=\"#000000\" d=\"M845.2068,-185.8089C846.8483,-177.6014 848.6371,-168.6574 850.3611,-160.0374\"/>\n",
       "<polygon fill=\"#000000\" stroke=\"#000000\" points=\"853.8132,-160.623 852.3424,-150.1308 846.9491,-159.2501 853.8132,-160.623\"/>\n",
       "</g>\n",
       "<!-- 12 -->\n",
       "<g id=\"node13\" class=\"node\">\n",
       "<title>12</title>\n",
       "<polygon fill=\"none\" stroke=\"#000000\" points=\"606.3068,-50 515.2303,-50 515.2303,0 606.3068,0 606.3068,-50\"/>\n",
       "<text text-anchor=\"middle\" x=\"560.7686\" y=\"-34.8\" font-family=\"Times,serif\" font-size=\"14.00\" fill=\"#000000\">entropy = 0.0</text>\n",
       "<text text-anchor=\"middle\" x=\"560.7686\" y=\"-20.8\" font-family=\"Times,serif\" font-size=\"14.00\" fill=\"#000000\">samples = 7</text>\n",
       "<text text-anchor=\"middle\" x=\"560.7686\" y=\"-6.8\" font-family=\"Times,serif\" font-size=\"14.00\" fill=\"#000000\">value = [7, 0]</text>\n",
       "</g>\n",
       "<!-- 11&#45;&gt;12 -->\n",
       "<g id=\"edge12\" class=\"edge\">\n",
       "<title>11&#45;&gt;12</title>\n",
       "<path fill=\"none\" stroke=\"#000000\" d=\"M636.1921,-85.9947C624.3673,-76.432 611.4188,-65.9606 599.6397,-56.4349\"/>\n",
       "<polygon fill=\"#000000\" stroke=\"#000000\" points=\"601.6763,-53.5807 591.6999,-50.014 597.2747,-59.0236 601.6763,-53.5807\"/>\n",
       "</g>\n",
       "<!-- 13 -->\n",
       "<g id=\"node14\" class=\"node\">\n",
       "<title>13</title>\n",
       "<polygon fill=\"none\" stroke=\"#000000\" points=\"736.8066,-50 624.7305,-50 624.7305,0 736.8066,0 736.8066,-50\"/>\n",
       "<text text-anchor=\"middle\" x=\"680.7686\" y=\"-34.8\" font-family=\"Times,serif\" font-size=\"14.00\" fill=\"#000000\">entropy = 0.9523</text>\n",
       "<text text-anchor=\"middle\" x=\"680.7686\" y=\"-20.8\" font-family=\"Times,serif\" font-size=\"14.00\" fill=\"#000000\">samples = 258</text>\n",
       "<text text-anchor=\"middle\" x=\"680.7686\" y=\"-6.8\" font-family=\"Times,serif\" font-size=\"14.00\" fill=\"#000000\">value = [96, 162]</text>\n",
       "</g>\n",
       "<!-- 11&#45;&gt;13 -->\n",
       "<g id=\"edge13\" class=\"edge\">\n",
       "<title>11&#45;&gt;13</title>\n",
       "<path fill=\"none\" stroke=\"#000000\" d=\"M677.4893,-85.9947C677.9391,-77.6273 678.4264,-68.5643 678.8843,-60.0478\"/>\n",
       "<polygon fill=\"#000000\" stroke=\"#000000\" points=\"682.3817,-60.1875 679.4237,-50.014 675.3918,-59.8117 682.3817,-60.1875\"/>\n",
       "</g>\n",
       "<!-- 15 -->\n",
       "<g id=\"node16\" class=\"node\">\n",
       "<title>15</title>\n",
       "<polygon fill=\"none\" stroke=\"#000000\" points=\"853.8067,-50 755.7304,-50 755.7304,0 853.8067,0 853.8067,-50\"/>\n",
       "<text text-anchor=\"middle\" x=\"804.7686\" y=\"-34.8\" font-family=\"Times,serif\" font-size=\"14.00\" fill=\"#000000\">entropy = 0.0</text>\n",
       "<text text-anchor=\"middle\" x=\"804.7686\" y=\"-20.8\" font-family=\"Times,serif\" font-size=\"14.00\" fill=\"#000000\">samples = 15</text>\n",
       "<text text-anchor=\"middle\" x=\"804.7686\" y=\"-6.8\" font-family=\"Times,serif\" font-size=\"14.00\" fill=\"#000000\">value = [15, 0]</text>\n",
       "</g>\n",
       "<!-- 14&#45;&gt;15 -->\n",
       "<g id=\"edge15\" class=\"edge\">\n",
       "<title>14&#45;&gt;15</title>\n",
       "<path fill=\"none\" stroke=\"#000000\" d=\"M840.1848,-85.9947C835.1128,-77.2595 829.6005,-67.7662 824.4687,-58.928\"/>\n",
       "<polygon fill=\"#000000\" stroke=\"#000000\" points=\"827.341,-56.9044 819.2928,-50.014 821.2875,-60.4194 827.341,-56.9044\"/>\n",
       "</g>\n",
       "<!-- 16 -->\n",
       "<g id=\"node17\" class=\"node\">\n",
       "<title>16</title>\n",
       "<polygon fill=\"none\" stroke=\"#000000\" points=\"977.4298,-50 872.1073,-50 872.1073,0 977.4298,0 977.4298,-50\"/>\n",
       "<text text-anchor=\"middle\" x=\"924.7686\" y=\"-34.8\" font-family=\"Times,serif\" font-size=\"14.00\" fill=\"#000000\">entropy = 0.971</text>\n",
       "<text text-anchor=\"middle\" x=\"924.7686\" y=\"-20.8\" font-family=\"Times,serif\" font-size=\"14.00\" fill=\"#000000\">samples = 5</text>\n",
       "<text text-anchor=\"middle\" x=\"924.7686\" y=\"-6.8\" font-family=\"Times,serif\" font-size=\"14.00\" fill=\"#000000\">value = [3, 2]</text>\n",
       "</g>\n",
       "<!-- 14&#45;&gt;16 -->\n",
       "<g id=\"edge16\" class=\"edge\">\n",
       "<title>14&#45;&gt;16</title>\n",
       "<path fill=\"none\" stroke=\"#000000\" d=\"M881.482,-85.9947C887.8116,-77.0756 894.7023,-67.3661 901.0862,-58.3706\"/>\n",
       "<polygon fill=\"#000000\" stroke=\"#000000\" points=\"904.0834,-60.1947 907.0167,-50.014 898.3749,-56.1435 904.0834,-60.1947\"/>\n",
       "</g>\n",
       "<!-- 18 -->\n",
       "<g id=\"node19\" class=\"node\">\n",
       "<title>18</title>\n",
       "<polygon fill=\"none\" stroke=\"#000000\" points=\"1052.8067,-243 954.7304,-243 954.7304,-193 1052.8067,-193 1052.8067,-243\"/>\n",
       "<text text-anchor=\"middle\" x=\"1003.7686\" y=\"-227.8\" font-family=\"Times,serif\" font-size=\"14.00\" fill=\"#000000\">entropy = 0.0</text>\n",
       "<text text-anchor=\"middle\" x=\"1003.7686\" y=\"-213.8\" font-family=\"Times,serif\" font-size=\"14.00\" fill=\"#000000\">samples = 17</text>\n",
       "<text text-anchor=\"middle\" x=\"1003.7686\" y=\"-199.8\" font-family=\"Times,serif\" font-size=\"14.00\" fill=\"#000000\">value = [17, 0]</text>\n",
       "</g>\n",
       "<!-- 17&#45;&gt;18 -->\n",
       "<g id=\"edge18\" class=\"edge\">\n",
       "<title>17&#45;&gt;18</title>\n",
       "<path fill=\"none\" stroke=\"#000000\" d=\"M1071.5775,-285.8089C1060.243,-274.4745 1047.5041,-261.7355 1036.1537,-250.3851\"/>\n",
       "<polygon fill=\"#000000\" stroke=\"#000000\" points=\"1038.4701,-247.7518 1028.9241,-243.1555 1033.5203,-252.7015 1038.4701,-247.7518\"/>\n",
       "</g>\n",
       "<!-- 19 -->\n",
       "<g id=\"node20\" class=\"node\">\n",
       "<title>19</title>\n",
       "<polygon fill=\"none\" stroke=\"#000000\" points=\"1182.9298,-243 1070.6073,-243 1070.6073,-193 1182.9298,-193 1182.9298,-243\"/>\n",
       "<text text-anchor=\"middle\" x=\"1126.7686\" y=\"-227.8\" font-family=\"Times,serif\" font-size=\"14.00\" fill=\"#000000\">entropy = 0.7219</text>\n",
       "<text text-anchor=\"middle\" x=\"1126.7686\" y=\"-213.8\" font-family=\"Times,serif\" font-size=\"14.00\" fill=\"#000000\">samples = 5</text>\n",
       "<text text-anchor=\"middle\" x=\"1126.7686\" y=\"-199.8\" font-family=\"Times,serif\" font-size=\"14.00\" fill=\"#000000\">value = [4, 1]</text>\n",
       "</g>\n",
       "<!-- 17&#45;&gt;19 -->\n",
       "<g id=\"edge19\" class=\"edge\">\n",
       "<title>17&#45;&gt;19</title>\n",
       "<path fill=\"none\" stroke=\"#000000\" d=\"M1111.1725,-285.8089C1113.5808,-275.338 1116.2648,-263.6685 1118.718,-253.0025\"/>\n",
       "<polygon fill=\"#000000\" stroke=\"#000000\" points=\"1122.1522,-253.6856 1120.9828,-243.1555 1115.3303,-252.1166 1122.1522,-253.6856\"/>\n",
       "</g>\n",
       "<!-- 21 -->\n",
       "<g id=\"node22\" class=\"node\">\n",
       "<title>21</title>\n",
       "<polygon fill=\"none\" stroke=\"#000000\" points=\"1403.7213,-350 1229.8158,-350 1229.8158,-286 1403.7213,-286 1403.7213,-350\"/>\n",
       "<text text-anchor=\"middle\" x=\"1316.7686\" y=\"-334.8\" font-family=\"Times,serif\" font-size=\"14.00\" fill=\"#000000\">guest_check_diff &lt;= 0.1357</text>\n",
       "<text text-anchor=\"middle\" x=\"1316.7686\" y=\"-320.8\" font-family=\"Times,serif\" font-size=\"14.00\" fill=\"#000000\">entropy = 0.9889</text>\n",
       "<text text-anchor=\"middle\" x=\"1316.7686\" y=\"-306.8\" font-family=\"Times,serif\" font-size=\"14.00\" fill=\"#000000\">samples = 548</text>\n",
       "<text text-anchor=\"middle\" x=\"1316.7686\" y=\"-292.8\" font-family=\"Times,serif\" font-size=\"14.00\" fill=\"#000000\">value = [240, 308]</text>\n",
       "</g>\n",
       "<!-- 20&#45;&gt;21 -->\n",
       "<g id=\"edge21\" class=\"edge\">\n",
       "<title>20&#45;&gt;21</title>\n",
       "<path fill=\"none\" stroke=\"#000000\" d=\"M1316.7686,-385.8089C1316.7686,-377.6906 1316.7686,-368.8517 1316.7686,-360.3186\"/>\n",
       "<polygon fill=\"#000000\" stroke=\"#000000\" points=\"1320.2687,-360.1307 1316.7686,-350.1308 1313.2687,-360.1308 1320.2687,-360.1307\"/>\n",
       "</g>\n",
       "<!-- 34 -->\n",
       "<g id=\"node35\" class=\"node\">\n",
       "<title>34</title>\n",
       "<polygon fill=\"none\" stroke=\"#000000\" points=\"1962.2419,-350 1795.2952,-350 1795.2952,-286 1962.2419,-286 1962.2419,-350\"/>\n",
       "<text text-anchor=\"middle\" x=\"1878.7686\" y=\"-334.8\" font-family=\"Times,serif\" font-size=\"14.00\" fill=\"#000000\">guest_days_diff &lt;= 0.2792</text>\n",
       "<text text-anchor=\"middle\" x=\"1878.7686\" y=\"-320.8\" font-family=\"Times,serif\" font-size=\"14.00\" fill=\"#000000\">entropy = 0.9299</text>\n",
       "<text text-anchor=\"middle\" x=\"1878.7686\" y=\"-306.8\" font-family=\"Times,serif\" font-size=\"14.00\" fill=\"#000000\">samples = 55</text>\n",
       "<text text-anchor=\"middle\" x=\"1878.7686\" y=\"-292.8\" font-family=\"Times,serif\" font-size=\"14.00\" fill=\"#000000\">value = [36, 19]</text>\n",
       "</g>\n",
       "<!-- 20&#45;&gt;34 -->\n",
       "<g id=\"edge34\" class=\"edge\">\n",
       "<title>20&#45;&gt;34</title>\n",
       "<path fill=\"none\" stroke=\"#000000\" d=\"M1392.5624,-404.5136C1494.3976,-386.3934 1675.294,-354.2054 1785.4047,-334.6128\"/>\n",
       "<polygon fill=\"#000000\" stroke=\"#000000\" points=\"1786.2735,-338.0133 1795.5057,-332.8155 1785.0471,-331.1215 1786.2735,-338.0133\"/>\n",
       "</g>\n",
       "<!-- 22 -->\n",
       "<g id=\"node23\" class=\"node\">\n",
       "<title>22</title>\n",
       "<polygon fill=\"none\" stroke=\"#000000\" points=\"1377.469,-250 1212.0681,-250 1212.0681,-186 1377.469,-186 1377.469,-250\"/>\n",
       "<text text-anchor=\"middle\" x=\"1294.7686\" y=\"-234.8\" font-family=\"Times,serif\" font-size=\"14.00\" fill=\"#000000\">msg_len_diff &lt;= 164.3243</text>\n",
       "<text text-anchor=\"middle\" x=\"1294.7686\" y=\"-220.8\" font-family=\"Times,serif\" font-size=\"14.00\" fill=\"#000000\">entropy = 0.9103</text>\n",
       "<text text-anchor=\"middle\" x=\"1294.7686\" y=\"-206.8\" font-family=\"Times,serif\" font-size=\"14.00\" fill=\"#000000\">samples = 43</text>\n",
       "<text text-anchor=\"middle\" x=\"1294.7686\" y=\"-192.8\" font-family=\"Times,serif\" font-size=\"14.00\" fill=\"#000000\">value = [29, 14]</text>\n",
       "</g>\n",
       "<!-- 21&#45;&gt;22 -->\n",
       "<g id=\"edge22\" class=\"edge\">\n",
       "<title>21&#45;&gt;22</title>\n",
       "<path fill=\"none\" stroke=\"#000000\" d=\"M1309.6865,-285.8089C1307.8809,-277.6014 1305.9132,-268.6574 1304.0168,-260.0374\"/>\n",
       "<polygon fill=\"#000000\" stroke=\"#000000\" points=\"1307.4043,-259.1452 1301.8373,-250.1308 1300.5678,-260.6492 1307.4043,-259.1452\"/>\n",
       "</g>\n",
       "<!-- 29 -->\n",
       "<g id=\"node30\" class=\"node\">\n",
       "<title>29</title>\n",
       "<polygon fill=\"none\" stroke=\"#000000\" points=\"1569.7213,-250 1395.8158,-250 1395.8158,-186 1569.7213,-186 1569.7213,-250\"/>\n",
       "<text text-anchor=\"middle\" x=\"1482.7686\" y=\"-234.8\" font-family=\"Times,serif\" font-size=\"14.00\" fill=\"#000000\">guest_check_diff &lt;= 0.1396</text>\n",
       "<text text-anchor=\"middle\" x=\"1482.7686\" y=\"-220.8\" font-family=\"Times,serif\" font-size=\"14.00\" fill=\"#000000\">entropy = 0.9804</text>\n",
       "<text text-anchor=\"middle\" x=\"1482.7686\" y=\"-206.8\" font-family=\"Times,serif\" font-size=\"14.00\" fill=\"#000000\">samples = 505</text>\n",
       "<text text-anchor=\"middle\" x=\"1482.7686\" y=\"-192.8\" font-family=\"Times,serif\" font-size=\"14.00\" fill=\"#000000\">value = [211, 294]</text>\n",
       "</g>\n",
       "<!-- 21&#45;&gt;29 -->\n",
       "<g id=\"edge29\" class=\"edge\">\n",
       "<title>21&#45;&gt;29</title>\n",
       "<path fill=\"none\" stroke=\"#000000\" d=\"M1370.2057,-285.8089C1386.3479,-276.0848 1404.206,-265.3268 1420.8524,-255.2989\"/>\n",
       "<polygon fill=\"#000000\" stroke=\"#000000\" points=\"1422.6717,-258.289 1429.4315,-250.1308 1419.0596,-252.2929 1422.6717,-258.289\"/>\n",
       "</g>\n",
       "<!-- 23 -->\n",
       "<g id=\"node24\" class=\"node\">\n",
       "<title>23</title>\n",
       "<polygon fill=\"none\" stroke=\"#000000\" points=\"1199.6313,-150 1049.9058,-150 1049.9058,-86 1199.6313,-86 1199.6313,-150\"/>\n",
       "<text text-anchor=\"middle\" x=\"1124.7686\" y=\"-134.8\" font-family=\"Times,serif\" font-size=\"14.00\" fill=\"#000000\">m_guest_diff &lt;= &#45;0.473</text>\n",
       "<text text-anchor=\"middle\" x=\"1124.7686\" y=\"-120.8\" font-family=\"Times,serif\" font-size=\"14.00\" fill=\"#000000\">entropy = 0.7219</text>\n",
       "<text text-anchor=\"middle\" x=\"1124.7686\" y=\"-106.8\" font-family=\"Times,serif\" font-size=\"14.00\" fill=\"#000000\">samples = 30</text>\n",
       "<text text-anchor=\"middle\" x=\"1124.7686\" y=\"-92.8\" font-family=\"Times,serif\" font-size=\"14.00\" fill=\"#000000\">value = [24, 6]</text>\n",
       "</g>\n",
       "<!-- 22&#45;&gt;23 -->\n",
       "<g id=\"edge23\" class=\"edge\">\n",
       "<title>22&#45;&gt;23</title>\n",
       "<path fill=\"none\" stroke=\"#000000\" d=\"M1240.0437,-185.8089C1223.5126,-176.0848 1205.2242,-165.3268 1188.1766,-155.2989\"/>\n",
       "<polygon fill=\"#000000\" stroke=\"#000000\" points=\"1189.7848,-152.1842 1179.3908,-150.1308 1186.2356,-158.2178 1189.7848,-152.1842\"/>\n",
       "</g>\n",
       "<!-- 26 -->\n",
       "<g id=\"node27\" class=\"node\">\n",
       "<title>26</title>\n",
       "<polygon fill=\"none\" stroke=\"#000000\" points=\"1388.4034,-150 1217.1337,-150 1217.1337,-86 1388.4034,-86 1388.4034,-150\"/>\n",
       "<text text-anchor=\"middle\" x=\"1302.7686\" y=\"-134.8\" font-family=\"Times,serif\" font-size=\"14.00\" fill=\"#000000\">guest_days_diff &lt;= &#45;0.1486</text>\n",
       "<text text-anchor=\"middle\" x=\"1302.7686\" y=\"-120.8\" font-family=\"Times,serif\" font-size=\"14.00\" fill=\"#000000\">entropy = 0.9612</text>\n",
       "<text text-anchor=\"middle\" x=\"1302.7686\" y=\"-106.8\" font-family=\"Times,serif\" font-size=\"14.00\" fill=\"#000000\">samples = 13</text>\n",
       "<text text-anchor=\"middle\" x=\"1302.7686\" y=\"-92.8\" font-family=\"Times,serif\" font-size=\"14.00\" fill=\"#000000\">value = [5, 8]</text>\n",
       "</g>\n",
       "<!-- 22&#45;&gt;26 -->\n",
       "<g id=\"edge26\" class=\"edge\">\n",
       "<title>22&#45;&gt;26</title>\n",
       "<path fill=\"none\" stroke=\"#000000\" d=\"M1297.3438,-185.8089C1297.9933,-177.6906 1298.7004,-168.8517 1299.3831,-160.3186\"/>\n",
       "<polygon fill=\"#000000\" stroke=\"#000000\" points=\"1302.8894,-160.3781 1300.1981,-150.1308 1295.9117,-159.8198 1302.8894,-160.3781\"/>\n",
       "</g>\n",
       "<!-- 24 -->\n",
       "<g id=\"node25\" class=\"node\">\n",
       "<title>24</title>\n",
       "<polygon fill=\"none\" stroke=\"#000000\" points=\"1086.3068,-50 995.2303,-50 995.2303,0 1086.3068,0 1086.3068,-50\"/>\n",
       "<text text-anchor=\"middle\" x=\"1040.7686\" y=\"-34.8\" font-family=\"Times,serif\" font-size=\"14.00\" fill=\"#000000\">entropy = 0.0</text>\n",
       "<text text-anchor=\"middle\" x=\"1040.7686\" y=\"-20.8\" font-family=\"Times,serif\" font-size=\"14.00\" fill=\"#000000\">samples = 6</text>\n",
       "<text text-anchor=\"middle\" x=\"1040.7686\" y=\"-6.8\" font-family=\"Times,serif\" font-size=\"14.00\" fill=\"#000000\">value = [6, 0]</text>\n",
       "</g>\n",
       "<!-- 23&#45;&gt;24 -->\n",
       "<g id=\"edge24\" class=\"edge\">\n",
       "<title>23&#45;&gt;24</title>\n",
       "<path fill=\"none\" stroke=\"#000000\" d=\"M1095.8605,-85.9947C1087.5555,-76.7998 1078.4916,-66.7648 1070.1578,-57.5381\"/>\n",
       "<polygon fill=\"#000000\" stroke=\"#000000\" points=\"1072.6621,-55.0891 1063.3619,-50.014 1067.4674,-59.7811 1072.6621,-55.0891\"/>\n",
       "</g>\n",
       "<!-- 25 -->\n",
       "<g id=\"node26\" class=\"node\">\n",
       "<title>25</title>\n",
       "<polygon fill=\"none\" stroke=\"#000000\" points=\"1216.4175,-50 1105.1196,-50 1105.1196,0 1216.4175,0 1216.4175,-50\"/>\n",
       "<text text-anchor=\"middle\" x=\"1160.7686\" y=\"-34.8\" font-family=\"Times,serif\" font-size=\"14.00\" fill=\"#000000\">entropy = 0.8113</text>\n",
       "<text text-anchor=\"middle\" x=\"1160.7686\" y=\"-20.8\" font-family=\"Times,serif\" font-size=\"14.00\" fill=\"#000000\">samples = 24</text>\n",
       "<text text-anchor=\"middle\" x=\"1160.7686\" y=\"-6.8\" font-family=\"Times,serif\" font-size=\"14.00\" fill=\"#000000\">value = [18, 6]</text>\n",
       "</g>\n",
       "<!-- 23&#45;&gt;25 -->\n",
       "<g id=\"edge25\" class=\"edge\">\n",
       "<title>23&#45;&gt;25</title>\n",
       "<path fill=\"none\" stroke=\"#000000\" d=\"M1137.1577,-85.9947C1140.4679,-77.4434 1144.0593,-68.1656 1147.4187,-59.487\"/>\n",
       "<polygon fill=\"#000000\" stroke=\"#000000\" points=\"1150.7397,-60.6032 1151.0857,-50.014 1144.2117,-58.0762 1150.7397,-60.6032\"/>\n",
       "</g>\n",
       "<!-- 27 -->\n",
       "<g id=\"node28\" class=\"node\">\n",
       "<title>27</title>\n",
       "<polygon fill=\"none\" stroke=\"#000000\" points=\"1346.9298,-50 1234.6073,-50 1234.6073,0 1346.9298,0 1346.9298,-50\"/>\n",
       "<text text-anchor=\"middle\" x=\"1290.7686\" y=\"-34.8\" font-family=\"Times,serif\" font-size=\"14.00\" fill=\"#000000\">entropy = 0.9544</text>\n",
       "<text text-anchor=\"middle\" x=\"1290.7686\" y=\"-20.8\" font-family=\"Times,serif\" font-size=\"14.00\" fill=\"#000000\">samples = 8</text>\n",
       "<text text-anchor=\"middle\" x=\"1290.7686\" y=\"-6.8\" font-family=\"Times,serif\" font-size=\"14.00\" fill=\"#000000\">value = [3, 5]</text>\n",
       "</g>\n",
       "<!-- 26&#45;&gt;27 -->\n",
       "<g id=\"edge27\" class=\"edge\">\n",
       "<title>26&#45;&gt;27</title>\n",
       "<path fill=\"none\" stroke=\"#000000\" d=\"M1298.6388,-85.9947C1297.5592,-77.6273 1296.3898,-68.5643 1295.2908,-60.0478\"/>\n",
       "<polygon fill=\"#000000\" stroke=\"#000000\" points=\"1298.7472,-59.4839 1293.9962,-50.014 1291.8047,-60.3797 1298.7472,-59.4839\"/>\n",
       "</g>\n",
       "<!-- 28 -->\n",
       "<g id=\"node29\" class=\"node\">\n",
       "<title>28</title>\n",
       "<polygon fill=\"none\" stroke=\"#000000\" points=\"1470.4298,-50 1365.1073,-50 1365.1073,0 1470.4298,0 1470.4298,-50\"/>\n",
       "<text text-anchor=\"middle\" x=\"1417.7686\" y=\"-34.8\" font-family=\"Times,serif\" font-size=\"14.00\" fill=\"#000000\">entropy = 0.971</text>\n",
       "<text text-anchor=\"middle\" x=\"1417.7686\" y=\"-20.8\" font-family=\"Times,serif\" font-size=\"14.00\" fill=\"#000000\">samples = 5</text>\n",
       "<text text-anchor=\"middle\" x=\"1417.7686\" y=\"-6.8\" font-family=\"Times,serif\" font-size=\"14.00\" fill=\"#000000\">value = [2, 3]</text>\n",
       "</g>\n",
       "<!-- 26&#45;&gt;28 -->\n",
       "<g id=\"edge28\" class=\"edge\">\n",
       "<title>26&#45;&gt;28</title>\n",
       "<path fill=\"none\" stroke=\"#000000\" d=\"M1342.345,-85.9947C1354.1698,-76.432 1367.1183,-65.9606 1378.8974,-56.4349\"/>\n",
       "<polygon fill=\"#000000\" stroke=\"#000000\" points=\"1381.2625,-59.0236 1386.8372,-50.014 1376.8608,-53.5807 1381.2625,-59.0236\"/>\n",
       "</g>\n",
       "<!-- 30 -->\n",
       "<g id=\"node31\" class=\"node\">\n",
       "<title>30</title>\n",
       "<polygon fill=\"none\" stroke=\"#000000\" points=\"1521.8067,-143 1423.7304,-143 1423.7304,-93 1521.8067,-93 1521.8067,-143\"/>\n",
       "<text text-anchor=\"middle\" x=\"1472.7686\" y=\"-127.8\" font-family=\"Times,serif\" font-size=\"14.00\" fill=\"#000000\">entropy = 0.0</text>\n",
       "<text text-anchor=\"middle\" x=\"1472.7686\" y=\"-113.8\" font-family=\"Times,serif\" font-size=\"14.00\" fill=\"#000000\">samples = 13</text>\n",
       "<text text-anchor=\"middle\" x=\"1472.7686\" y=\"-99.8\" font-family=\"Times,serif\" font-size=\"14.00\" fill=\"#000000\">value = [0, 13]</text>\n",
       "</g>\n",
       "<!-- 29&#45;&gt;30 -->\n",
       "<g id=\"edge30\" class=\"edge\">\n",
       "<title>29&#45;&gt;30</title>\n",
       "<path fill=\"none\" stroke=\"#000000\" d=\"M1479.5494,-185.8089C1478.5132,-175.446 1477.3595,-163.909 1476.3018,-153.3327\"/>\n",
       "<polygon fill=\"#000000\" stroke=\"#000000\" points=\"1479.7619,-152.7576 1475.2841,-143.1555 1472.7966,-153.4542 1479.7619,-152.7576\"/>\n",
       "</g>\n",
       "<!-- 31 -->\n",
       "<g id=\"node32\" class=\"node\">\n",
       "<title>31</title>\n",
       "<polygon fill=\"none\" stroke=\"#000000\" points=\"1713.7213,-150 1539.8158,-150 1539.8158,-86 1713.7213,-86 1713.7213,-150\"/>\n",
       "<text text-anchor=\"middle\" x=\"1626.7686\" y=\"-134.8\" font-family=\"Times,serif\" font-size=\"14.00\" fill=\"#000000\">guest_check_diff &lt;= 0.6905</text>\n",
       "<text text-anchor=\"middle\" x=\"1626.7686\" y=\"-120.8\" font-family=\"Times,serif\" font-size=\"14.00\" fill=\"#000000\">entropy = 0.9853</text>\n",
       "<text text-anchor=\"middle\" x=\"1626.7686\" y=\"-106.8\" font-family=\"Times,serif\" font-size=\"14.00\" fill=\"#000000\">samples = 492</text>\n",
       "<text text-anchor=\"middle\" x=\"1626.7686\" y=\"-92.8\" font-family=\"Times,serif\" font-size=\"14.00\" fill=\"#000000\">value = [211, 281]</text>\n",
       "</g>\n",
       "<!-- 29&#45;&gt;31 -->\n",
       "<g id=\"edge31\" class=\"edge\">\n",
       "<title>29&#45;&gt;31</title>\n",
       "<path fill=\"none\" stroke=\"#000000\" d=\"M1529.1237,-185.8089C1542.8696,-176.2632 1558.0499,-165.7213 1572.2623,-155.8516\"/>\n",
       "<polygon fill=\"#000000\" stroke=\"#000000\" points=\"1574.2829,-158.7096 1580.5003,-150.1308 1570.2901,-152.96 1574.2829,-158.7096\"/>\n",
       "</g>\n",
       "<!-- 32 -->\n",
       "<g id=\"node33\" class=\"node\">\n",
       "<title>32</title>\n",
       "<polygon fill=\"none\" stroke=\"#000000\" points=\"1607.3066,-50 1488.2306,-50 1488.2306,0 1607.3066,0 1607.3066,-50\"/>\n",
       "<text text-anchor=\"middle\" x=\"1547.7686\" y=\"-34.8\" font-family=\"Times,serif\" font-size=\"14.00\" fill=\"#000000\">entropy = 0.9786</text>\n",
       "<text text-anchor=\"middle\" x=\"1547.7686\" y=\"-20.8\" font-family=\"Times,serif\" font-size=\"14.00\" fill=\"#000000\">samples = 466</text>\n",
       "<text text-anchor=\"middle\" x=\"1547.7686\" y=\"-6.8\" font-family=\"Times,serif\" font-size=\"14.00\" fill=\"#000000\">value = [193, 273]</text>\n",
       "</g>\n",
       "<!-- 31&#45;&gt;32 -->\n",
       "<g id=\"edge32\" class=\"edge\">\n",
       "<title>31&#45;&gt;32</title>\n",
       "<path fill=\"none\" stroke=\"#000000\" d=\"M1599.5812,-85.9947C1591.8486,-76.8917 1583.4166,-66.9654 1575.6438,-57.8152\"/>\n",
       "<polygon fill=\"#000000\" stroke=\"#000000\" points=\"1578.1587,-55.3695 1569.017,-50.014 1572.8237,-59.9014 1578.1587,-55.3695\"/>\n",
       "</g>\n",
       "<!-- 33 -->\n",
       "<g id=\"node34\" class=\"node\">\n",
       "<title>33</title>\n",
       "<polygon fill=\"none\" stroke=\"#000000\" points=\"1737.9298,-50 1625.6073,-50 1625.6073,0 1737.9298,0 1737.9298,-50\"/>\n",
       "<text text-anchor=\"middle\" x=\"1681.7686\" y=\"-34.8\" font-family=\"Times,serif\" font-size=\"14.00\" fill=\"#000000\">entropy = 0.8905</text>\n",
       "<text text-anchor=\"middle\" x=\"1681.7686\" y=\"-20.8\" font-family=\"Times,serif\" font-size=\"14.00\" fill=\"#000000\">samples = 26</text>\n",
       "<text text-anchor=\"middle\" x=\"1681.7686\" y=\"-6.8\" font-family=\"Times,serif\" font-size=\"14.00\" fill=\"#000000\">value = [18, 8]</text>\n",
       "</g>\n",
       "<!-- 31&#45;&gt;33 -->\n",
       "<g id=\"edge33\" class=\"edge\">\n",
       "<title>31&#45;&gt;33</title>\n",
       "<path fill=\"none\" stroke=\"#000000\" d=\"M1645.6964,-85.9947C1650.9168,-77.1676 1656.595,-67.5662 1661.8686,-58.6491\"/>\n",
       "<polygon fill=\"#000000\" stroke=\"#000000\" points=\"1664.8975,-60.4031 1666.9753,-50.014 1658.8722,-56.8398 1664.8975,-60.4031\"/>\n",
       "</g>\n",
       "<!-- 35 -->\n",
       "<g id=\"node36\" class=\"node\">\n",
       "<title>35</title>\n",
       "<polygon fill=\"none\" stroke=\"#000000\" points=\"1964.4034,-250 1793.1337,-250 1793.1337,-186 1964.4034,-186 1964.4034,-250\"/>\n",
       "<text text-anchor=\"middle\" x=\"1878.7686\" y=\"-234.8\" font-family=\"Times,serif\" font-size=\"14.00\" fill=\"#000000\">guest_days_diff &lt;= &#45;0.6815</text>\n",
       "<text text-anchor=\"middle\" x=\"1878.7686\" y=\"-220.8\" font-family=\"Times,serif\" font-size=\"14.00\" fill=\"#000000\">entropy = 0.7063</text>\n",
       "<text text-anchor=\"middle\" x=\"1878.7686\" y=\"-206.8\" font-family=\"Times,serif\" font-size=\"14.00\" fill=\"#000000\">samples = 26</text>\n",
       "<text text-anchor=\"middle\" x=\"1878.7686\" y=\"-192.8\" font-family=\"Times,serif\" font-size=\"14.00\" fill=\"#000000\">value = [21, 5]</text>\n",
       "</g>\n",
       "<!-- 34&#45;&gt;35 -->\n",
       "<g id=\"edge35\" class=\"edge\">\n",
       "<title>34&#45;&gt;35</title>\n",
       "<path fill=\"none\" stroke=\"#000000\" d=\"M1878.7686,-285.8089C1878.7686,-277.6906 1878.7686,-268.8517 1878.7686,-260.3186\"/>\n",
       "<polygon fill=\"#000000\" stroke=\"#000000\" points=\"1882.2687,-260.1307 1878.7686,-250.1308 1875.2687,-260.1308 1882.2687,-260.1307\"/>\n",
       "</g>\n",
       "<!-- 40 -->\n",
       "<g id=\"node41\" class=\"node\">\n",
       "<title>40</title>\n",
       "<polygon fill=\"none\" stroke=\"#000000\" points=\"2197.1313,-250 2040.4058,-250 2040.4058,-186 2197.1313,-186 2197.1313,-250\"/>\n",
       "<text text-anchor=\"middle\" x=\"2118.7686\" y=\"-234.8\" font-family=\"Times,serif\" font-size=\"14.00\" fill=\"#000000\">msg_len_diff &lt;= &#45;73.987</text>\n",
       "<text text-anchor=\"middle\" x=\"2118.7686\" y=\"-220.8\" font-family=\"Times,serif\" font-size=\"14.00\" fill=\"#000000\">entropy = 0.9991</text>\n",
       "<text text-anchor=\"middle\" x=\"2118.7686\" y=\"-206.8\" font-family=\"Times,serif\" font-size=\"14.00\" fill=\"#000000\">samples = 29</text>\n",
       "<text text-anchor=\"middle\" x=\"2118.7686\" y=\"-192.8\" font-family=\"Times,serif\" font-size=\"14.00\" fill=\"#000000\">value = [15, 14]</text>\n",
       "</g>\n",
       "<!-- 34&#45;&gt;40 -->\n",
       "<g id=\"edge40\" class=\"edge\">\n",
       "<title>34&#45;&gt;40</title>\n",
       "<path fill=\"none\" stroke=\"#000000\" d=\"M1955.6964,-285.9467C1980.1331,-275.7648 2007.3174,-264.438 2032.3753,-253.9972\"/>\n",
       "<polygon fill=\"#000000\" stroke=\"#000000\" points=\"2033.98,-257.1203 2041.8646,-250.0433 2031.2877,-250.6587 2033.98,-257.1203\"/>\n",
       "</g>\n",
       "<!-- 36 -->\n",
       "<g id=\"node37\" class=\"node\">\n",
       "<title>36</title>\n",
       "<polygon fill=\"none\" stroke=\"#000000\" points=\"1895.969,-150 1737.5681,-150 1737.5681,-86 1895.969,-86 1895.969,-150\"/>\n",
       "<text text-anchor=\"middle\" x=\"1816.7686\" y=\"-134.8\" font-family=\"Times,serif\" font-size=\"14.00\" fill=\"#000000\">msg_len_diff &lt;= 78.4643</text>\n",
       "<text text-anchor=\"middle\" x=\"1816.7686\" y=\"-120.8\" font-family=\"Times,serif\" font-size=\"14.00\" fill=\"#000000\">entropy = 0.9403</text>\n",
       "<text text-anchor=\"middle\" x=\"1816.7686\" y=\"-106.8\" font-family=\"Times,serif\" font-size=\"14.00\" fill=\"#000000\">samples = 14</text>\n",
       "<text text-anchor=\"middle\" x=\"1816.7686\" y=\"-92.8\" font-family=\"Times,serif\" font-size=\"14.00\" fill=\"#000000\">value = [9, 5]</text>\n",
       "</g>\n",
       "<!-- 35&#45;&gt;36 -->\n",
       "<g id=\"edge36\" class=\"edge\">\n",
       "<title>35&#45;&gt;36</title>\n",
       "<path fill=\"none\" stroke=\"#000000\" d=\"M1858.8101,-185.8089C1853.4448,-177.1553 1847.572,-167.683 1841.9623,-158.635\"/>\n",
       "<polygon fill=\"#000000\" stroke=\"#000000\" points=\"1844.9337,-156.7855 1836.6896,-150.1308 1838.9844,-160.4741 1844.9337,-156.7855\"/>\n",
       "</g>\n",
       "<!-- 39 -->\n",
       "<g id=\"node40\" class=\"node\">\n",
       "<title>39</title>\n",
       "<polygon fill=\"none\" stroke=\"#000000\" points=\"2012.8067,-143 1914.7304,-143 1914.7304,-93 2012.8067,-93 2012.8067,-143\"/>\n",
       "<text text-anchor=\"middle\" x=\"1963.7686\" y=\"-127.8\" font-family=\"Times,serif\" font-size=\"14.00\" fill=\"#000000\">entropy = 0.0</text>\n",
       "<text text-anchor=\"middle\" x=\"1963.7686\" y=\"-113.8\" font-family=\"Times,serif\" font-size=\"14.00\" fill=\"#000000\">samples = 12</text>\n",
       "<text text-anchor=\"middle\" x=\"1963.7686\" y=\"-99.8\" font-family=\"Times,serif\" font-size=\"14.00\" fill=\"#000000\">value = [12, 0]</text>\n",
       "</g>\n",
       "<!-- 35&#45;&gt;39 -->\n",
       "<g id=\"edge39\" class=\"edge\">\n",
       "<title>35&#45;&gt;39</title>\n",
       "<path fill=\"none\" stroke=\"#000000\" d=\"M1906.131,-185.8089C1915.5817,-174.6904 1926.1813,-162.2203 1935.6886,-151.0352\"/>\n",
       "<polygon fill=\"#000000\" stroke=\"#000000\" points=\"1938.5766,-153.0417 1942.3863,-143.1555 1933.243,-148.5082 1938.5766,-153.0417\"/>\n",
       "</g>\n",
       "<!-- 37 -->\n",
       "<g id=\"node38\" class=\"node\">\n",
       "<title>37</title>\n",
       "<polygon fill=\"none\" stroke=\"#000000\" points=\"1867.4175,-50 1756.1196,-50 1756.1196,0 1867.4175,0 1867.4175,-50\"/>\n",
       "<text text-anchor=\"middle\" x=\"1811.7686\" y=\"-34.8\" font-family=\"Times,serif\" font-size=\"14.00\" fill=\"#000000\">entropy = 0.9911</text>\n",
       "<text text-anchor=\"middle\" x=\"1811.7686\" y=\"-20.8\" font-family=\"Times,serif\" font-size=\"14.00\" fill=\"#000000\">samples = 9</text>\n",
       "<text text-anchor=\"middle\" x=\"1811.7686\" y=\"-6.8\" font-family=\"Times,serif\" font-size=\"14.00\" fill=\"#000000\">value = [4, 5]</text>\n",
       "</g>\n",
       "<!-- 36&#45;&gt;37 -->\n",
       "<g id=\"edge37\" class=\"edge\">\n",
       "<title>36&#45;&gt;37</title>\n",
       "<path fill=\"none\" stroke=\"#000000\" d=\"M1815.0478,-85.9947C1814.598,-77.6273 1814.1107,-68.5643 1813.6528,-60.0478\"/>\n",
       "<polygon fill=\"#000000\" stroke=\"#000000\" points=\"1817.1453,-59.8117 1813.1134,-50.014 1810.1554,-60.1875 1817.1453,-59.8117\"/>\n",
       "</g>\n",
       "<!-- 38 -->\n",
       "<g id=\"node39\" class=\"node\">\n",
       "<title>38</title>\n",
       "<polygon fill=\"none\" stroke=\"#000000\" points=\"1977.3068,-50 1886.2303,-50 1886.2303,0 1977.3068,0 1977.3068,-50\"/>\n",
       "<text text-anchor=\"middle\" x=\"1931.7686\" y=\"-34.8\" font-family=\"Times,serif\" font-size=\"14.00\" fill=\"#000000\">entropy = 0.0</text>\n",
       "<text text-anchor=\"middle\" x=\"1931.7686\" y=\"-20.8\" font-family=\"Times,serif\" font-size=\"14.00\" fill=\"#000000\">samples = 5</text>\n",
       "<text text-anchor=\"middle\" x=\"1931.7686\" y=\"-6.8\" font-family=\"Times,serif\" font-size=\"14.00\" fill=\"#000000\">value = [5, 0]</text>\n",
       "</g>\n",
       "<!-- 36&#45;&gt;38 -->\n",
       "<g id=\"edge38\" class=\"edge\">\n",
       "<title>36&#45;&gt;38</title>\n",
       "<path fill=\"none\" stroke=\"#000000\" d=\"M1856.345,-85.9947C1868.1698,-76.432 1881.1183,-65.9606 1892.8974,-56.4349\"/>\n",
       "<polygon fill=\"#000000\" stroke=\"#000000\" points=\"1895.2625,-59.0236 1900.8372,-50.014 1890.8608,-53.5807 1895.2625,-59.0236\"/>\n",
       "</g>\n",
       "<!-- 41 -->\n",
       "<g id=\"node42\" class=\"node\">\n",
       "<title>41</title>\n",
       "<polygon fill=\"none\" stroke=\"#000000\" points=\"2194.469,-150 2043.0681,-150 2043.0681,-86 2194.469,-86 2194.469,-150\"/>\n",
       "<text text-anchor=\"middle\" x=\"2118.7686\" y=\"-134.8\" font-family=\"Times,serif\" font-size=\"14.00\" fill=\"#000000\">m_guest_diff &lt;= 1.1705</text>\n",
       "<text text-anchor=\"middle\" x=\"2118.7686\" y=\"-120.8\" font-family=\"Times,serif\" font-size=\"14.00\" fill=\"#000000\">entropy = 0.7793</text>\n",
       "<text text-anchor=\"middle\" x=\"2118.7686\" y=\"-106.8\" font-family=\"Times,serif\" font-size=\"14.00\" fill=\"#000000\">samples = 13</text>\n",
       "<text text-anchor=\"middle\" x=\"2118.7686\" y=\"-92.8\" font-family=\"Times,serif\" font-size=\"14.00\" fill=\"#000000\">value = [10, 3]</text>\n",
       "</g>\n",
       "<!-- 40&#45;&gt;41 -->\n",
       "<g id=\"edge41\" class=\"edge\">\n",
       "<title>40&#45;&gt;41</title>\n",
       "<path fill=\"none\" stroke=\"#000000\" d=\"M2118.7686,-185.8089C2118.7686,-177.6906 2118.7686,-168.8517 2118.7686,-160.3186\"/>\n",
       "<polygon fill=\"#000000\" stroke=\"#000000\" points=\"2122.2687,-160.1307 2118.7686,-150.1308 2115.2687,-160.1308 2122.2687,-160.1307\"/>\n",
       "</g>\n",
       "<!-- 44 -->\n",
       "<g id=\"node45\" class=\"node\">\n",
       "<title>44</title>\n",
       "<polygon fill=\"none\" stroke=\"#000000\" points=\"2381.469,-150 2230.0681,-150 2230.0681,-86 2381.469,-86 2381.469,-150\"/>\n",
       "<text text-anchor=\"middle\" x=\"2305.7686\" y=\"-134.8\" font-family=\"Times,serif\" font-size=\"14.00\" fill=\"#000000\">m_guest_diff &lt;= 1.2589</text>\n",
       "<text text-anchor=\"middle\" x=\"2305.7686\" y=\"-120.8\" font-family=\"Times,serif\" font-size=\"14.00\" fill=\"#000000\">entropy = 0.896</text>\n",
       "<text text-anchor=\"middle\" x=\"2305.7686\" y=\"-106.8\" font-family=\"Times,serif\" font-size=\"14.00\" fill=\"#000000\">samples = 16</text>\n",
       "<text text-anchor=\"middle\" x=\"2305.7686\" y=\"-92.8\" font-family=\"Times,serif\" font-size=\"14.00\" fill=\"#000000\">value = [5, 11]</text>\n",
       "</g>\n",
       "<!-- 40&#45;&gt;44 -->\n",
       "<g id=\"edge44\" class=\"edge\">\n",
       "<title>40&#45;&gt;44</title>\n",
       "<path fill=\"none\" stroke=\"#000000\" d=\"M2178.7081,-185.9467C2197.2452,-176.0339 2217.8113,-165.0359 2236.9022,-154.8269\"/>\n",
       "<polygon fill=\"#000000\" stroke=\"#000000\" points=\"2238.6798,-157.8454 2245.8476,-150.0433 2235.3788,-151.6726 2238.6798,-157.8454\"/>\n",
       "</g>\n",
       "<!-- 42 -->\n",
       "<g id=\"node43\" class=\"node\">\n",
       "<title>42</title>\n",
       "<polygon fill=\"none\" stroke=\"#000000\" points=\"2107.9298,-50 1995.6073,-50 1995.6073,0 2107.9298,0 2107.9298,-50\"/>\n",
       "<text text-anchor=\"middle\" x=\"2051.7686\" y=\"-34.8\" font-family=\"Times,serif\" font-size=\"14.00\" fill=\"#000000\">entropy = 0.5436</text>\n",
       "<text text-anchor=\"middle\" x=\"2051.7686\" y=\"-20.8\" font-family=\"Times,serif\" font-size=\"14.00\" fill=\"#000000\">samples = 8</text>\n",
       "<text text-anchor=\"middle\" x=\"2051.7686\" y=\"-6.8\" font-family=\"Times,serif\" font-size=\"14.00\" fill=\"#000000\">value = [7, 1]</text>\n",
       "</g>\n",
       "<!-- 41&#45;&gt;42 -->\n",
       "<g id=\"edge42\" class=\"edge\">\n",
       "<title>41&#45;&gt;42</title>\n",
       "<path fill=\"none\" stroke=\"#000000\" d=\"M2095.711,-85.9947C2089.2854,-77.0756 2082.2904,-67.3661 2075.8098,-58.3706\"/>\n",
       "<polygon fill=\"#000000\" stroke=\"#000000\" points=\"2078.4746,-56.0819 2069.7894,-50.014 2072.795,-60.1736 2078.4746,-56.0819\"/>\n",
       "</g>\n",
       "<!-- 43 -->\n",
       "<g id=\"node44\" class=\"node\">\n",
       "<title>43</title>\n",
       "<polygon fill=\"none\" stroke=\"#000000\" points=\"2231.4298,-50 2126.1073,-50 2126.1073,0 2231.4298,0 2231.4298,-50\"/>\n",
       "<text text-anchor=\"middle\" x=\"2178.7686\" y=\"-34.8\" font-family=\"Times,serif\" font-size=\"14.00\" fill=\"#000000\">entropy = 0.971</text>\n",
       "<text text-anchor=\"middle\" x=\"2178.7686\" y=\"-20.8\" font-family=\"Times,serif\" font-size=\"14.00\" fill=\"#000000\">samples = 5</text>\n",
       "<text text-anchor=\"middle\" x=\"2178.7686\" y=\"-6.8\" font-family=\"Times,serif\" font-size=\"14.00\" fill=\"#000000\">value = [3, 2]</text>\n",
       "</g>\n",
       "<!-- 41&#45;&gt;43 -->\n",
       "<g id=\"edge43\" class=\"edge\">\n",
       "<title>41&#45;&gt;43</title>\n",
       "<path fill=\"none\" stroke=\"#000000\" d=\"M2139.4172,-85.9947C2145.112,-77.1676 2151.3065,-67.5662 2157.0595,-58.6491\"/>\n",
       "<polygon fill=\"#000000\" stroke=\"#000000\" points=\"2160.1502,-60.3145 2162.6305,-50.014 2154.2681,-56.5196 2160.1502,-60.3145\"/>\n",
       "</g>\n",
       "<!-- 45 -->\n",
       "<g id=\"node46\" class=\"node\">\n",
       "<title>45</title>\n",
       "<polygon fill=\"none\" stroke=\"#000000\" points=\"2361.9298,-50 2249.6073,-50 2249.6073,0 2361.9298,0 2361.9298,-50\"/>\n",
       "<text text-anchor=\"middle\" x=\"2305.7686\" y=\"-34.8\" font-family=\"Times,serif\" font-size=\"14.00\" fill=\"#000000\">entropy = 0.5033</text>\n",
       "<text text-anchor=\"middle\" x=\"2305.7686\" y=\"-20.8\" font-family=\"Times,serif\" font-size=\"14.00\" fill=\"#000000\">samples = 9</text>\n",
       "<text text-anchor=\"middle\" x=\"2305.7686\" y=\"-6.8\" font-family=\"Times,serif\" font-size=\"14.00\" fill=\"#000000\">value = [1, 8]</text>\n",
       "</g>\n",
       "<!-- 44&#45;&gt;45 -->\n",
       "<g id=\"edge45\" class=\"edge\">\n",
       "<title>44&#45;&gt;45</title>\n",
       "<path fill=\"none\" stroke=\"#000000\" d=\"M2305.7686,-85.9947C2305.7686,-77.6273 2305.7686,-68.5643 2305.7686,-60.0478\"/>\n",
       "<polygon fill=\"#000000\" stroke=\"#000000\" points=\"2309.2687,-60.014 2305.7686,-50.014 2302.2687,-60.0141 2309.2687,-60.014\"/>\n",
       "</g>\n",
       "<!-- 46 -->\n",
       "<g id=\"node47\" class=\"node\">\n",
       "<title>46</title>\n",
       "<polygon fill=\"none\" stroke=\"#000000\" points=\"2491.9298,-50 2379.6073,-50 2379.6073,0 2491.9298,0 2491.9298,-50\"/>\n",
       "<text text-anchor=\"middle\" x=\"2435.7686\" y=\"-34.8\" font-family=\"Times,serif\" font-size=\"14.00\" fill=\"#000000\">entropy = 0.9852</text>\n",
       "<text text-anchor=\"middle\" x=\"2435.7686\" y=\"-20.8\" font-family=\"Times,serif\" font-size=\"14.00\" fill=\"#000000\">samples = 7</text>\n",
       "<text text-anchor=\"middle\" x=\"2435.7686\" y=\"-6.8\" font-family=\"Times,serif\" font-size=\"14.00\" fill=\"#000000\">value = [4, 3]</text>\n",
       "</g>\n",
       "<!-- 44&#45;&gt;46 -->\n",
       "<g id=\"edge46\" class=\"edge\">\n",
       "<title>44&#45;&gt;46</title>\n",
       "<path fill=\"none\" stroke=\"#000000\" d=\"M2350.5072,-85.9947C2364.1314,-76.2481 2379.0752,-65.5575 2392.594,-55.8864\"/>\n",
       "<polygon fill=\"#000000\" stroke=\"#000000\" points=\"2394.706,-58.679 2400.8027,-50.014 2390.6332,-52.9858 2394.706,-58.679\"/>\n",
       "</g>\n",
       "</g>\n",
       "</svg>\n"
      ],
      "text/plain": [
       "<graphviz.files.Source at 0x10f1d2c50>"
      ]
     },
     "execution_count": 86,
     "metadata": {},
     "output_type": "execute_result"
    }
   ],
   "source": [
    "graph = graphviz.Source(dot_data)\n",
    "graph"
   ]
  },
  {
   "cell_type": "code",
   "execution_count": 94,
   "metadata": {},
   "outputs": [
    {
     "name": "stdout",
     "output_type": "stream",
     "text": [
      "             precision    recall  f1-score   support\n",
      "\n",
      "          0       0.61      0.41      0.49       389\n",
      "          1       0.77      0.88      0.82       882\n",
      "\n",
      "avg / total       0.72      0.74      0.72      1271\n",
      "\n"
     ]
    }
   ],
   "source": [
    "s_weights = np.where(Y_train == 1, 1, 1)  #Play with this value more. \n",
    "gbt2 = GradientBoostingClassifier()\n",
    "parameters = [{\n",
    "        'n_estimators': [50],\n",
    "        'max_depth': (30,50),\n",
    "        'min_samples_split': (2,3),\n",
    "        'min_samples_leaf': (15,20),\n",
    "    }]\n",
    "grid_search = GridSearchCV(gbt2, parameters, n_jobs= -1, error_score= 0, fit_params={'sample_weight': s_weights})\n",
    "grid_search = grid_search.fit(X_train, Y_train)\n",
    "preds = grid_search.predict(X_test)\n",
    "grid_search.best_params_\n",
    "print classification_report(Y_test, preds)"
   ]
  },
  {
   "cell_type": "code",
   "execution_count": 96,
   "metadata": {},
   "outputs": [
    {
     "data": {
      "image/png": "[encoded data removed]",
      "text/plain": [
       "<matplotlib.figure.Figure at 0x10f183290>"
      ]
     },
     "metadata": {},
     "output_type": "display_data"
    }
   ],
   "source": [
    "best_forest = grid_search.best_estimator_\n",
    "importances = best_forest.feature_importances_\n",
    "features = X_train.columns.values\n",
    "std = np.std([tree[0].feature_importances_ for tree in [tree_list for tree_list in best_forest.estimators_]],\n",
    "            axis=0)\n",
    "indices = np.argsort(importances)[::-1]\n",
    "plt.figure()\n",
    "plt.title(\"Feature importances\")\n",
    "plt.bar(range(X_train.shape[1]), importances[indices],yerr=std[indices],\n",
    "       color=\"r\", align=\"center\")\n",
    "plt.xticks(range(X_train.shape[1]), indices)\n",
    "plt.xlim([-1, X_train.shape[1]])\n",
    "plt.show()"
   ]
  },
  {
   "cell_type": "code",
   "execution_count": 121,
   "metadata": {},
   "outputs": [
    {
     "data": {
      "image/png": "[encoded data removed]",
      "text/plain": [
       "<matplotlib.figure.Figure at 0x109eec9d0>"
      ]
     },
     "metadata": {},
     "output_type": "display_data"
    }
   ],
   "source": [
    "best_forest.feature_importances_\n",
    "feat_names = X_train.columns.values\n",
    "feat_rank = [feat_names[i] for i in indices]\n",
    "fig, axs = plot_partial_dependence(best_forest, X_train, [0,3,1,2], feature_names = feat_names) "
   ]
  },
  {
   "cell_type": "markdown",
   "metadata": {},
   "source": [
    "<b>The most glaring impact on the probability of a booking is that there are other guests who have made more bookings than you contending for the same listing.</b>"
   ]
  },
  {
   "cell_type": "code",
   "execution_count": 127,
   "metadata": {},
   "outputs": [
    {
     "data": {
      "image/png": "[encoded data removed]",
      "text/plain": [
       "<matplotlib.figure.Figure at 0x10aeef110>"
      ]
     },
     "metadata": {},
     "output_type": "display_data"
    }
   ],
   "source": [
    "fig, axs = plot_partial_dependence(best_forest, X_train, [(2,3)], feature_names = feat_names) "
   ]
  },
  {
   "cell_type": "code",
   "execution_count": 122,
   "metadata": {},
   "outputs": [
    {
     "data": {
      "image/png": "[encoded data removed]",
      "text/plain": [
       "<matplotlib.figure.Figure at 0x10aa489d0>"
      ]
     },
     "metadata": {},
     "output_type": "display_data"
    }
   ],
   "source": [
    "fig, axs = plot_partial_dependence(best_forest, X_train, [(0,2)], feature_names = feat_names) "
   ]
  },
  {
   "cell_type": "markdown",
   "metadata": {},
   "source": [
    "We can see that if there are other guests who have more checkins than us, we may try to increase the probability of a booking by increasing the length of our stay and the length of our first message."
   ]
  },
  {
   "cell_type": "markdown",
   "metadata": {},
   "source": [
    "## Takeaway:\n",
    "A host can best increase their chance of a successful booking by responding faster and by having more reviews. We can launch 2 products to assist the host:\n",
    "   1. Notification system for prompting the host to promptly respond to open booking requests when no booking has been made\n",
    "   2. A bounty system where if the guest reviews the listing, the host can review the guest(which may help guests get future bookings because their previous booking repuatation strongly impacts the guest chance of a booking)\n",
    "   \n",
    "Guests can make themselves more competitive in the marketplace by making more bookings (kind of a catch-22). In the case that a guest is applying to a listing in which there are already other guests interacting with the host and those guests have a longer rental history, we can:\n",
    "   1. Suggest that the guest leave a longer message describing their stay \n",
    "   2. Also suggest that the guest increase the duration of their stay (this is more lucrative for the host that optimizes for cash and could make a guest out-compete contenders with more previous checkins)."
   ]
  },
  {
   "cell_type": "markdown",
   "metadata": {},
   "source": [
    "# Part 2 - A/B Test\n",
    "\"We have run an experiment where we require the guest to write a message that is at\n",
    "least 140 characters long to explain why they are interested in staying with the host,\n",
    "and we run this as a 50/50 experiment (50% in treatment, 50% in control) to see the\n",
    "effect on booking rate. Should we launch this product feature to everyone?\""
   ]
  },
  {
   "cell_type": "code",
   "execution_count": 81,
   "metadata": {},
   "outputs": [
    {
     "data": {
      "text/plain": [
       "(23143, 18)"
      ]
     },
     "execution_count": 81,
     "metadata": {},
     "output_type": "execute_result"
    }
   ],
   "source": [
    "original_data = pd.read_csv('./contacts.csv')"
   ]
  },
  {
   "cell_type": "code",
   "execution_count": 90,
   "metadata": {},
   "outputs": [],
   "source": [
    "original_data['booked'] = np.where(original_data['ts_booking_at'].isnull() &~\n",
    "                                 (original_data['dim_contact_channel_first'] ==  'instant_booked') , 0, 1) "
   ]
  },
  {
   "cell_type": "code",
   "execution_count": 91,
   "metadata": {},
   "outputs": [],
   "source": [
    "#Join the data\n",
    "exp_data = pd.merge(original_data, assignments_df, how='inner',\n",
    "                    left_on='id_guest_anon', right_on='id_user_anon')"
   ]
  },
  {
   "cell_type": "code",
   "execution_count": 92,
   "metadata": {},
   "outputs": [
    {
     "data": {
      "text/plain": [
       "0"
      ]
     },
     "execution_count": 92,
     "metadata": {},
     "output_type": "execute_result"
    }
   ],
   "source": [
    "exp_data['ab'].isnull().sum()"
   ]
  },
  {
   "cell_type": "code",
   "execution_count": 93,
   "metadata": {},
   "outputs": [
    {
     "data": {
      "text/html": [
       "<div>\n",
       "<style>\n",
       "    .dataframe thead tr:only-child th {\n",
       "        text-align: right;\n",
       "    }\n",
       "\n",
       "    .dataframe thead th {\n",
       "        text-align: left;\n",
       "    }\n",
       "\n",
       "    .dataframe tbody tr th {\n",
       "        vertical-align: top;\n",
       "    }\n",
       "</style>\n",
       "<table border=\"1\" class=\"dataframe\">\n",
       "  <thead>\n",
       "    <tr style=\"text-align: right;\">\n",
       "      <th></th>\n",
       "      <th>id_guest_anon</th>\n",
       "      <th>id_host_anon</th>\n",
       "      <th>id_listing_anon</th>\n",
       "      <th>ts_interaction_first</th>\n",
       "      <th>ts_reply_at_first</th>\n",
       "      <th>ts_accepted_at_first</th>\n",
       "      <th>ts_booking_at</th>\n",
       "      <th>ds_checkin_first</th>\n",
       "      <th>ds_checkout_first</th>\n",
       "      <th>m_guests_first</th>\n",
       "      <th>m_interactions</th>\n",
       "      <th>m_first_message_length_in_characters</th>\n",
       "      <th>dim_contact_channel_first</th>\n",
       "      <th>dim_room_type</th>\n",
       "      <th>dim_total_reviews</th>\n",
       "      <th>dim_person_capacity</th>\n",
       "      <th>dim_guest_language</th>\n",
       "      <th>dim_host_language</th>\n",
       "      <th>booked</th>\n",
       "      <th>id_user_anon</th>\n",
       "    </tr>\n",
       "    <tr>\n",
       "      <th>ab</th>\n",
       "      <th></th>\n",
       "      <th></th>\n",
       "      <th></th>\n",
       "      <th></th>\n",
       "      <th></th>\n",
       "      <th></th>\n",
       "      <th></th>\n",
       "      <th></th>\n",
       "      <th></th>\n",
       "      <th></th>\n",
       "      <th></th>\n",
       "      <th></th>\n",
       "      <th></th>\n",
       "      <th></th>\n",
       "      <th></th>\n",
       "      <th></th>\n",
       "      <th></th>\n",
       "      <th></th>\n",
       "      <th></th>\n",
       "      <th></th>\n",
       "    </tr>\n",
       "  </thead>\n",
       "  <tbody>\n",
       "    <tr>\n",
       "      <th>control</th>\n",
       "      <td>12771</td>\n",
       "      <td>12771</td>\n",
       "      <td>12771</td>\n",
       "      <td>12771</td>\n",
       "      <td>11997</td>\n",
       "      <td>9237</td>\n",
       "      <td>9208</td>\n",
       "      <td>12771</td>\n",
       "      <td>12771</td>\n",
       "      <td>12750</td>\n",
       "      <td>12771</td>\n",
       "      <td>11527</td>\n",
       "      <td>12771</td>\n",
       "      <td>12771</td>\n",
       "      <td>12771</td>\n",
       "      <td>12771</td>\n",
       "      <td>0</td>\n",
       "      <td>12771</td>\n",
       "      <td>12771</td>\n",
       "      <td>12771</td>\n",
       "    </tr>\n",
       "    <tr>\n",
       "      <th>treatment</th>\n",
       "      <td>12751</td>\n",
       "      <td>12751</td>\n",
       "      <td>12751</td>\n",
       "      <td>12751</td>\n",
       "      <td>11978</td>\n",
       "      <td>9173</td>\n",
       "      <td>9146</td>\n",
       "      <td>12751</td>\n",
       "      <td>12751</td>\n",
       "      <td>12733</td>\n",
       "      <td>12751</td>\n",
       "      <td>11510</td>\n",
       "      <td>12751</td>\n",
       "      <td>12751</td>\n",
       "      <td>12751</td>\n",
       "      <td>12751</td>\n",
       "      <td>0</td>\n",
       "      <td>12751</td>\n",
       "      <td>12751</td>\n",
       "      <td>12751</td>\n",
       "    </tr>\n",
       "  </tbody>\n",
       "</table>\n",
       "</div>"
      ],
      "text/plain": [
       "           id_guest_anon  id_host_anon  id_listing_anon  ts_interaction_first  \\\n",
       "ab                                                                              \n",
       "control            12771         12771            12771                 12771   \n",
       "treatment          12751         12751            12751                 12751   \n",
       "\n",
       "           ts_reply_at_first  ts_accepted_at_first  ts_booking_at  \\\n",
       "ab                                                                  \n",
       "control                11997                  9237           9208   \n",
       "treatment              11978                  9173           9146   \n",
       "\n",
       "           ds_checkin_first  ds_checkout_first  m_guests_first  \\\n",
       "ab                                                               \n",
       "control               12771              12771           12750   \n",
       "treatment             12751              12751           12733   \n",
       "\n",
       "           m_interactions  m_first_message_length_in_characters  \\\n",
       "ab                                                                \n",
       "control             12771                                 11527   \n",
       "treatment           12751                                 11510   \n",
       "\n",
       "           dim_contact_channel_first  dim_room_type  dim_total_reviews  \\\n",
       "ab                                                                       \n",
       "control                        12771          12771              12771   \n",
       "treatment                      12751          12751              12751   \n",
       "\n",
       "           dim_person_capacity  dim_guest_language  dim_host_language  booked  \\\n",
       "ab                                                                              \n",
       "control                  12771                   0              12771   12771   \n",
       "treatment                12751                   0              12751   12751   \n",
       "\n",
       "           id_user_anon  \n",
       "ab                       \n",
       "control           12771  \n",
       "treatment         12751  "
      ]
     },
     "execution_count": 93,
     "metadata": {},
     "output_type": "execute_result"
    }
   ],
   "source": [
    "exp_data.groupby('ab').count()"
   ]
  },
  {
   "cell_type": "code",
   "execution_count": 94,
   "metadata": {},
   "outputs": [
    {
     "data": {
      "text/html": [
       "<div>\n",
       "<style>\n",
       "    .dataframe thead tr:only-child th {\n",
       "        text-align: right;\n",
       "    }\n",
       "\n",
       "    .dataframe thead th {\n",
       "        text-align: left;\n",
       "    }\n",
       "\n",
       "    .dataframe tbody tr th {\n",
       "        vertical-align: top;\n",
       "    }\n",
       "</style>\n",
       "<table border=\"1\" class=\"dataframe\">\n",
       "  <thead>\n",
       "    <tr style=\"text-align: right;\">\n",
       "      <th></th>\n",
       "      <th>m_guests_first</th>\n",
       "      <th>m_interactions</th>\n",
       "      <th>m_first_message_length_in_characters</th>\n",
       "      <th>dim_total_reviews</th>\n",
       "      <th>dim_person_capacity</th>\n",
       "      <th>dim_guest_language</th>\n",
       "      <th>booked</th>\n",
       "    </tr>\n",
       "    <tr>\n",
       "      <th>ab</th>\n",
       "      <th></th>\n",
       "      <th></th>\n",
       "      <th></th>\n",
       "      <th></th>\n",
       "      <th></th>\n",
       "      <th></th>\n",
       "      <th></th>\n",
       "    </tr>\n",
       "  </thead>\n",
       "  <tbody>\n",
       "    <tr>\n",
       "      <th>control</th>\n",
       "      <td>2.312157</td>\n",
       "      <td>7.087464</td>\n",
       "      <td>251.090136</td>\n",
       "      <td>53.752878</td>\n",
       "      <td>3.741994</td>\n",
       "      <td>NaN</td>\n",
       "      <td>0.721009</td>\n",
       "    </tr>\n",
       "    <tr>\n",
       "      <th>treatment</th>\n",
       "      <td>2.328752</td>\n",
       "      <td>7.147753</td>\n",
       "      <td>290.060643</td>\n",
       "      <td>53.822837</td>\n",
       "      <td>3.791075</td>\n",
       "      <td>NaN</td>\n",
       "      <td>0.717277</td>\n",
       "    </tr>\n",
       "  </tbody>\n",
       "</table>\n",
       "</div>"
      ],
      "text/plain": [
       "           m_guests_first  m_interactions  \\\n",
       "ab                                          \n",
       "control          2.312157        7.087464   \n",
       "treatment        2.328752        7.147753   \n",
       "\n",
       "           m_first_message_length_in_characters  dim_total_reviews  \\\n",
       "ab                                                                   \n",
       "control                              251.090136          53.752878   \n",
       "treatment                            290.060643          53.822837   \n",
       "\n",
       "           dim_person_capacity  dim_guest_language    booked  \n",
       "ab                                                            \n",
       "control               3.741994                 NaN  0.721009  \n",
       "treatment             3.791075                 NaN  0.717277  "
      ]
     },
     "execution_count": 94,
     "metadata": {},
     "output_type": "execute_result"
    }
   ],
   "source": [
    "exp_data.groupby('ab').mean()"
   ]
  },
  {
   "cell_type": "markdown",
   "metadata": {},
   "source": [
    "Let's verify the claim that treatment converts better than without. "
   ]
  },
  {
   "cell_type": "code",
   "execution_count": 95,
   "metadata": {},
   "outputs": [
    {
     "data": {
      "text/plain": [
       "0.9816946850775602"
      ]
     },
     "execution_count": 95,
     "metadata": {},
     "output_type": "execute_result"
    }
   ],
   "source": [
    "odds_num = float(exp_data[(exp_data['ab'] == 'treatment') & (exp_data['booked'] == 1)]['booked'].count()) / float(exp_data[(exp_data['ab'] == 'control') & (exp_data['booked'] == 1)]['booked'].count())\n",
    "\n",
    "odds_denom = float(exp_data[(exp_data['ab'] == 'treatment') & (exp_data['booked'] == 0)]['booked'].count()) / float(exp_data[(exp_data['ab'] == 'control') & (exp_data['booked'] == 0)]['booked'].count())\n",
    "odds_ratio = odds_num / odds_denom\n",
    "odds_ratio\n"
   ]
  },
  {
   "cell_type": "markdown",
   "metadata": {},
   "source": [
    "The odds ratio is very close to 1 which indicates that there doesn't seem to be any difference between the treatment and control group's booking response."
   ]
  },
  {
   "cell_type": "markdown",
   "metadata": {},
   "source": [
    "Let's drop Instant books again and see if this helps."
   ]
  },
  {
   "cell_type": "code",
   "execution_count": 97,
   "metadata": {},
   "outputs": [],
   "source": [
    "exp_data = exp_data[exp_data['dim_contact_channel_first'] != 'instant_booked']"
   ]
  },
  {
   "cell_type": "code",
   "execution_count": 98,
   "metadata": {},
   "outputs": [
    {
     "data": {
      "text/plain": [
       "0.973312016899766"
      ]
     },
     "execution_count": 98,
     "metadata": {},
     "output_type": "execute_result"
    }
   ],
   "source": [
    "odds_num = float(exp_data[(exp_data['ab'] == 'treatment') & (exp_data['booked'] == 1)]['booked'].count()) / float(exp_data[(exp_data['ab'] == 'control') & (exp_data['booked'] == 1)]['booked'].count())\n",
    "\n",
    "odds_denom = float(exp_data[(exp_data['ab'] == 'treatment') & (exp_data['booked'] == 0)]['booked'].count()) / float(exp_data[(exp_data['ab'] == 'control') & (exp_data['booked'] == 0)]['booked'].count())\n",
    "odds_ratio = odds_num / odds_denom\n",
    "odds_ratio"
   ]
  },
  {
   "cell_type": "markdown",
   "metadata": {},
   "source": [
    "The odds ratio is still pretty bad. "
   ]
  },
  {
   "cell_type": "code",
   "execution_count": 99,
   "metadata": {},
   "outputs": [
    {
     "data": {
      "text/plain": [
       "<matplotlib.axes.AxesSubplot at 0x109abe650>"
      ]
     },
     "execution_count": 99,
     "metadata": {},
     "output_type": "execute_result"
    },
    {
     "data": {
      "image/png": "[encoded data removed]",
      "text/plain": [
       "<matplotlib.figure.Figure at 0x109abe7d0>"
      ]
     },
     "metadata": {},
     "output_type": "display_data"
    }
   ],
   "source": [
    "plt.figure(figsize=(12, 6))\n",
    "exp_data.groupby('ab')['booked'].mean().plot(kind='bar')"
   ]
  },
  {
   "cell_type": "markdown",
   "metadata": {},
   "source": [
    "There doesn't appear to be a difference on the global groups. Let's look at some subgroups..."
   ]
  },
  {
   "cell_type": "code",
   "execution_count": 101,
   "metadata": {},
   "outputs": [
    {
     "data": {
      "text/plain": [
       "<matplotlib.axes.AxesSubplot at 0x10ba06190>"
      ]
     },
     "execution_count": 101,
     "metadata": {},
     "output_type": "execute_result"
    },
    {
     "data": {
      "image/png": "[encoded data removed]",
      "text/plain": [
       "<matplotlib.figure.Figure at 0x10be84c50>"
      ]
     },
     "metadata": {},
     "output_type": "display_data"
    },
    {
     "data": {
      "image/png": "[encoded data removed]",
      "text/plain": [
       "<matplotlib.figure.Figure at 0x10be845d0>"
      ]
     },
     "metadata": {},
     "output_type": "display_data"
    },
    {
     "data": {
      "image/png": "[encoded data removed]",
      "text/plain": [
       "<matplotlib.figure.Figure at 0x10b8f6ed0>"
      ]
     },
     "metadata": {},
     "output_type": "display_data"
    }
   ],
   "source": [
    "exp_data['dim_host_language'] = original_data['dim_host_language']\n",
    "exp_data.groupby(['ab', 'dim_host_language'])['booked'].mean().plot(kind='bar')\n",
    "plt.figure(figsize=(12, 6))\n",
    "exp_data.groupby(['ab', 'dim_room_type'])['booked'].mean().plot(kind='bar')\n",
    "plt.figure(figsize=(12, 6))\n",
    "exp_data.groupby(['ab', 'dim_host_language','dim_room_type'])['booked'].mean().plot(kind='bar')"
   ]
  },
  {
   "cell_type": "markdown",
   "metadata": {},
   "source": [
    "It seems that there may be a siginificant impact with certain languages. But at first glance the treatment seems neutral."
   ]
  },
  {
   "cell_type": "code",
   "execution_count": 107,
   "metadata": {
    "collapsed": true
   },
   "outputs": [],
   "source": [
    "merge_df3 = exp_data\n",
    "merge_df3['index1'] = exp_data.index\n",
    "merge_df3 = pd.merge(merge_df3, merge_df3, on=['id_listing_anon'], suffixes=['','_compare'])\n",
    "merge_df3['overlap'] = ((merge_df3['ds_checkin_first']>=merge_df3['ds_checkin_first_compare'])&\n",
    "                       (merge_df3['ds_checkin_first']<=merge_df3['ds_checkout_first_compare']))|((merge_df3['ds_checkout_first']>=merge_df3['ds_checkin_first_compare'])&\n",
    "                           (merge_df3['ds_checkout_first']<=merge_df3['ds_checkout_first_compare']))\n",
    "merge_df3['overlap'] = ((merge_df3['ds_checkin_first']>=merge_df3['ds_checkin_first_compare'])&(merge_df3['ds_checkin_first']<=merge_df3['ds_checkout_first_compare']))|((merge_df3['ds_checkout_first']>=merge_df3['ds_checkin_first_compare'])&\n",
    "                           (merge_df3['ds_checkout_first']<=merge_df3['ds_checkout_first_compare']))\n",
    "result3 = merge_df3[merge_df3.overlap>0].groupby(['index1','ds_checkin_first','ds_checkout_first']).agg({'index1_compare':np.size}).reset_index()\n",
    "exp_data['concurrent_listing'] = result3['index1_compare']"
   ]
  },
  {
   "cell_type": "code",
   "execution_count": 109,
   "metadata": {},
   "outputs": [
    {
     "data": {
      "text/html": [
       "<div>\n",
       "<style>\n",
       "    .dataframe thead tr:only-child th {\n",
       "        text-align: right;\n",
       "    }\n",
       "\n",
       "    .dataframe thead th {\n",
       "        text-align: left;\n",
       "    }\n",
       "\n",
       "    .dataframe tbody tr th {\n",
       "        vertical-align: top;\n",
       "    }\n",
       "</style>\n",
       "<table border=\"1\" class=\"dataframe\">\n",
       "  <thead>\n",
       "    <tr style=\"text-align: right;\">\n",
       "      <th></th>\n",
       "      <th></th>\n",
       "      <th>m_guests_first</th>\n",
       "      <th>m_interactions</th>\n",
       "      <th>m_first_message_length_in_characters</th>\n",
       "      <th>dim_total_reviews</th>\n",
       "      <th>dim_person_capacity</th>\n",
       "      <th>dim_guest_language</th>\n",
       "      <th>index1</th>\n",
       "      <th>concurrent_listing</th>\n",
       "    </tr>\n",
       "    <tr>\n",
       "      <th>ab</th>\n",
       "      <th>booked</th>\n",
       "      <th></th>\n",
       "      <th></th>\n",
       "      <th></th>\n",
       "      <th></th>\n",
       "      <th></th>\n",
       "      <th></th>\n",
       "      <th></th>\n",
       "      <th></th>\n",
       "    </tr>\n",
       "  </thead>\n",
       "  <tbody>\n",
       "    <tr>\n",
       "      <th rowspan=\"2\" valign=\"top\">control</th>\n",
       "      <th>0</th>\n",
       "      <td>2.342900</td>\n",
       "      <td>3.733032</td>\n",
       "      <td>255.937763</td>\n",
       "      <td>36.066365</td>\n",
       "      <td>4.168175</td>\n",
       "      <td>NaN</td>\n",
       "      <td>9434.604072</td>\n",
       "      <td>2.826546</td>\n",
       "    </tr>\n",
       "    <tr>\n",
       "      <th>1</th>\n",
       "      <td>2.368124</td>\n",
       "      <td>8.333208</td>\n",
       "      <td>256.258906</td>\n",
       "      <td>64.101280</td>\n",
       "      <td>3.875753</td>\n",
       "      <td>NaN</td>\n",
       "      <td>10487.222139</td>\n",
       "      <td>2.863705</td>\n",
       "    </tr>\n",
       "    <tr>\n",
       "      <th rowspan=\"2\" valign=\"top\">treatment</th>\n",
       "      <th>0</th>\n",
       "      <td>2.383838</td>\n",
       "      <td>3.601298</td>\n",
       "      <td>281.425498</td>\n",
       "      <td>35.854362</td>\n",
       "      <td>4.255227</td>\n",
       "      <td>NaN</td>\n",
       "      <td>9175.815429</td>\n",
       "      <td>2.742610</td>\n",
       "    </tr>\n",
       "    <tr>\n",
       "      <th>1</th>\n",
       "      <td>2.317038</td>\n",
       "      <td>8.544461</td>\n",
       "      <td>286.432313</td>\n",
       "      <td>64.117711</td>\n",
       "      <td>3.872813</td>\n",
       "      <td>NaN</td>\n",
       "      <td>10278.837828</td>\n",
       "      <td>2.875729</td>\n",
       "    </tr>\n",
       "  </tbody>\n",
       "</table>\n",
       "</div>"
      ],
      "text/plain": [
       "                  m_guests_first  m_interactions  \\\n",
       "ab        booked                                   \n",
       "control   0             2.342900        3.733032   \n",
       "          1             2.368124        8.333208   \n",
       "treatment 0             2.383838        3.601298   \n",
       "          1             2.317038        8.544461   \n",
       "\n",
       "                  m_first_message_length_in_characters  dim_total_reviews  \\\n",
       "ab        booked                                                            \n",
       "control   0                                 255.937763          36.066365   \n",
       "          1                                 256.258906          64.101280   \n",
       "treatment 0                                 281.425498          35.854362   \n",
       "          1                                 286.432313          64.117711   \n",
       "\n",
       "                  dim_person_capacity  dim_guest_language        index1  \\\n",
       "ab        booked                                                          \n",
       "control   0                  4.168175                 NaN   9434.604072   \n",
       "          1                  3.875753                 NaN  10487.222139   \n",
       "treatment 0                  4.255227                 NaN   9175.815429   \n",
       "          1                  3.872813                 NaN  10278.837828   \n",
       "\n",
       "                  concurrent_listing  \n",
       "ab        booked                      \n",
       "control   0                 2.826546  \n",
       "          1                 2.863705  \n",
       "treatment 0                 2.742610  \n",
       "          1                 2.875729  "
      ]
     },
     "execution_count": 109,
     "metadata": {},
     "output_type": "execute_result"
    }
   ],
   "source": [
    "exp_data[exp_data['concurrent_listing'] > 1].groupby(['ab', 'booked']).mean()"
   ]
  },
  {
   "cell_type": "markdown",
   "metadata": {},
   "source": [
    "There also does not seem to be a large difference in message length for successfully booking a competitive listing."
   ]
  },
  {
   "cell_type": "code",
   "execution_count": 110,
   "metadata": {},
   "outputs": [
    {
     "name": "stdout",
     "output_type": "stream",
     "text": [
      "Control proportion:\n",
      "0.501620338674\n",
      "Test proportion:\n",
      "0.498379661326\n"
     ]
    }
   ],
   "source": [
    "#A t-test to chek the effect. Test/control split is ~50/50\n",
    "print('Control proportion:')\n",
    "print(float(len(exp_data[exp_data['ab']=='control']))/len(exp_data))\n",
    "print('Test proportion:')\n",
    "print(float(len(exp_data[exp_data['ab']=='treatment']))/len(exp_data))"
   ]
  },
  {
   "cell_type": "code",
   "execution_count": 122,
   "metadata": {},
   "outputs": [
    {
     "name": "stdout",
     "output_type": "stream",
     "text": [
      "(array(0.9392372633595261), 0.34761929769618849)\n"
     ]
    }
   ],
   "source": [
    "from scipy import stats\n",
    "t_test = stats.ttest_ind(exp_data[exp_data['ab']=='control']['booked'], exp_data[exp_data['ab']=='treatment']['booked'],\n",
    "                      equal_var = False)\n",
    "\n",
    "print t_test"
   ]
  },
  {
   "cell_type": "markdown",
   "metadata": {},
   "source": [
    "Not considering sub-groups, the statistic result tells us we cannot reject the null hypothesis. "
   ]
  },
  {
   "cell_type": "markdown",
   "metadata": {},
   "source": [
    "I am going to test for bias in the assignment of the test treatment. "
   ]
  },
  {
   "cell_type": "code",
   "execution_count": 177,
   "metadata": {},
   "outputs": [],
   "source": [
    "exp_data['ds_checkin_first'] = pd.to_datetime(exp_data['ds_checkin_first'])\n",
    "exp_data['start_month'] = exp_data['ds_checkin_first'].map(lambda date: date.month)"
   ]
  },
  {
   "cell_type": "code",
   "execution_count": 178,
   "metadata": {},
   "outputs": [
    {
     "data": {
      "text/plain": [
       "['m_guests_first',\n",
       " 'dim_room_type',\n",
       " 'dim_total_reviews',\n",
       " 'dim_person_capacity',\n",
       " 'dim_host_language',\n",
       " 'concurrent_listing',\n",
       " 'start_month']"
      ]
     },
     "execution_count": 178,
     "metadata": {},
     "output_type": "execute_result"
    }
   ],
   "source": [
    "feats = ['m_guests_first','dim_room_type','dim_total_reviews',\n",
    "                            'dim_person_capacity','dim_host_language', 'concurrent_listing', 'start_month']     \n",
    "feats"
   ]
  },
  {
   "cell_type": "code",
   "execution_count": 167,
   "metadata": {},
   "outputs": [
    {
     "data": {
      "text/plain": [
       "m_guests_first            0\n",
       "dim_room_type             0\n",
       "dim_total_reviews         0\n",
       "dim_person_capacity       0\n",
       "dim_host_language         0\n",
       "concurrent_listing     3373\n",
       "dtype: int64"
      ]
     },
     "execution_count": 167,
     "metadata": {},
     "output_type": "execute_result"
    }
   ],
   "source": [
    "exp_data[feats].isnull().sum()"
   ]
  },
  {
   "cell_type": "code",
   "execution_count": 179,
   "metadata": {},
   "outputs": [],
   "source": [
    "exp_data = exp_data[~exp_data['m_guests_first'].isnull()]\n",
    "exp_data['concurrent_listing'].fillna(1, inplace = True)"
   ]
  },
  {
   "cell_type": "code",
   "execution_count": 180,
   "metadata": {},
   "outputs": [
    {
     "data": {
      "text/plain": [
       "<matplotlib.axes.AxesSubplot at 0x179148190>"
      ]
     },
     "execution_count": 180,
     "metadata": {},
     "output_type": "execute_result"
    },
    {
     "data": {
      "image/png": "[encoded data removed]",
      "text/plain": [
       "<matplotlib.figure.Figure at 0x149d52250>"
      ]
     },
     "metadata": {},
     "output_type": "display_data"
    }
   ],
   "source": [
    "lbl_encoder = LabelEncoder()\n",
    "exp_data['dim_host_language'] = lbl_encoder.fit_transform(exp_data['dim_host_language'])\n",
    "exp_data['dim_room_type'] = lbl_encoder.fit_transform(exp_data['dim_room_type'])\n",
    "\n",
    "\n",
    "rf_model = RandomForestClassifier()\n",
    "rf_model.fit(exp_data[feats], exp_data['ab'])\n",
    "feature_importances2 = rf_model.feature_importances_\n",
    "importance = pd.Series(feature_importances2, index = feats)\n",
    "\n",
    "\n",
    "plt.figure(figsize=(12, 6))\n",
    "importance.plot(kind = 'bar')\n"
   ]
  },
  {
   "cell_type": "markdown",
   "metadata": {},
   "source": [
    "The bar plot shows that there is possibly some bias in the assignment of the A/B test in which it was not truly randomized. `dim_total_reviews` seems to be an important factor in receiving treatment."
   ]
  },
  {
   "cell_type": "code",
   "execution_count": 171,
   "metadata": {
    "collapsed": true
   },
   "outputs": [],
   "source": [
    "def bucket_reviews(row):\n",
    "   if row['dim_total_reviews'] <= 1 :\n",
    "      return '1'\n",
    "   elif row['dim_total_reviews'] <= 3: \n",
    "      return '2'\n",
    "   elif row['dim_total_reviews'] <= 10:\n",
    "      return '3'\n",
    "   elif row['dim_total_reviews'] <= 25:\n",
    "      return '4'\n",
    "   elif row['dim_total_reviews']  <= 50:\n",
    "      return '5'\n",
    "   elif row['dim_total_reviews'] <= 100:\n",
    "      return '6'\n",
    "   else:\n",
    "      return '7'"
   ]
  },
  {
   "cell_type": "code",
   "execution_count": 172,
   "metadata": {
    "collapsed": true
   },
   "outputs": [],
   "source": [
    "exp_data['review_bucket'] = exp_data.apply(lambda row: bucket_reviews(row),axis=1)"
   ]
  },
  {
   "cell_type": "code",
   "execution_count": 181,
   "metadata": {},
   "outputs": [
    {
     "data": {
      "image/png": "[encoded data removed]",
      "text/plain": [
       "<matplotlib.figure.Figure at 0x174d5efd0>"
      ]
     },
     "metadata": {},
     "output_type": "display_data"
    },
    {
     "data": {
      "image/png": "[encoded data removed]",
      "text/plain": [
       "<matplotlib.figure.Figure at 0x1758b9150>"
      ]
     },
     "metadata": {},
     "output_type": "display_data"
    }
   ],
   "source": [
    "plt.figure(figsize=(12, 6))\n",
    "ratios = exp_data[exp_data['ab']=='treatment'].groupby(['review_bucket'])['booked'].count()/exp_data[exp_data['ab']=='control'].groupby(['review_bucket'])['booked'].count()\n",
    "ratios.plot(kind='bar')\n",
    "plt.show()\n",
    "\n",
    "plt.figure(figsize=(12, 6))\n",
    "ratios = exp_data[exp_data['ab']=='treatment'].groupby(['start_month'])['booked'].count()/exp_data[exp_data['ab']=='control'].groupby(['start_month'])['booked'].count()\n",
    "ratios.plot(kind='bar')\n",
    "plt.show()"
   ]
  },
  {
   "cell_type": "markdown",
   "metadata": {},
   "source": [
    "Our graphical analysis shows that the assignment appears uniform across the features and is not biased towards certain review counts or months (at least at the granularity at which I checked)."
   ]
  },
  {
   "cell_type": "markdown",
   "metadata": {},
   "source": [
    "## Takeaway:\n",
    "There does not seem to be any statistically significant impact of the treatment, and so I would have to recommend that we do not go forward with pushing the change out. In fact, the odds-ratio suggests that the treatment lowers the booking rate!"
   ]
  },
  {
   "cell_type": "markdown",
   "metadata": {
    "collapsed": true
   },
   "source": [
    "# Part 3 - Experimental Design\n",
    "\"Consider a different hypothesis: a 12 hour time limit on a host’s first response time\n",
    "will increase the number of bookings (when a host does not respond by this time limit\n",
    "the booking request is auto-rejected).\""
   ]
  },
  {
   "cell_type": "markdown",
   "metadata": {},
   "source": [
    "### a. How might the new time limit change the guest and host behavior?\n",
    "\n",
    "><b>Control</b>: Time window for host response time\n",
    "\n",
    "><b>Dependent variable</b>: Number of bookings\n",
    "#### The host: \n",
    "Strictly considering the host, they will be incentivized to increase their response rate in order to execute bookings.  Hosts who did not have the mobile app might download the application to decrease latency in their response time or the hosts may visit the website more often to field new guest requests. \n",
    "#### The guest:\n",
    "We might expect that bookings will fill up faster because hosts are responding faster (per part 1. the lower response delay leads to a successful booking), so guests will be more engaged (more interactions, longer messages) to make sure they reach out to what available bookings exist."
   ]
  },
  {
   "cell_type": "markdown",
   "metadata": {},
   "source": [
    "### b. What is the size of the potential business impact?\n",
    ">If the hypothesis is correct, the <i>immediate</i> business impact and bottom line is <b>nights booked</b>. I'll abstract away from the variability in price for now. Presumably the number of bookings will increase and the number of searches for bookings will too because bookings are being settled faster.\n",
    "\n",
    "\n",
    "><i>Downstream</i> business impacts are more interesting and possibly much greater. This could create a positive feedback loop where hosts are more active which gets them more bookings which makes them more popular which makes future bookings more likely to be booked. In an ideal marketplace where everyone has been vetted and is responsive, guests will be incentivized to engage more actively and bookings will see massive growth as user behavior adapts to the marketplace."
   ]
  },
  {
   "cell_type": "markdown",
   "metadata": {},
   "source": [
    "### c. In designing an experiment to test this change:\n",
    "i. <b>What are the subjects of the experiment and how will you randomize them into control and treatment?</b>\n",
    "      \n",
    ">We need to find a key to hash subjects into the control and treatment buckets of the experiment. This is an   experiment on the host and so we will assign treatments on the `host_id`. I will use stratified random sampling across a highly variable feature to choose the host_ids which will be hashed (features might be stratified on host language, host's number of previous bookings, etc.). I will start with 5%  of the population (50% for treatment and 50% control) to kick-off the experiment. \n",
    "\n",
    "\n",
    "ii. <b>Which key metrics will you monitor?</b>\n",
    "> Obvious metrics that are directly linked to success are <b>revenue</b> and <b>nights booked</b>.\n",
    "\n",
    "Other leading indicators: \n",
    "\n",
    "   >1. <b>Number of messages in the interaction</b>\n",
    "   \n",
    "   >2. <b>Number of times the host visits through any medium</b> (user engagement)\n",
    "   >3. <b>Average response time</b>\n",
    "\n",
    "iii. <b>How will you decide when to stop the experiment?</b>\n",
    "> I would run the experiment for at least 2 weeks with an initial group to account for some weekly seasonality. If I find that there is a lift in the number of bookings which is signficant, I would then being ramping up the experiment from 5% of the population(50% treament, 50% control) to 20% of the population(50% treament, 50% control). If I notice any severe losses in core metrics, I'd immediately stop the experiment and revert to previous settings. If the experiment continues to perform well at the higher percentage, I would do one more rollout where 50% of the population (all distinct from previous experiments) see the changes. Depending on the performance of this group, I will go all-in and ship the product to everyone, else not at all.  \n",
    "\n",
    ">Maybe the experiment is only successful for busy hosts, last minute bookings, or certain geographies. I would work with experience designers, product managers, and engineers to figure out what the best course of action is. Sometimes we might only ship to a certain demographic, sometimes having branching logic in the code is too much of a headache...\n",
    "\n",
    "iv. <b>How does this experiment design account for good user experience of the product and spillover effects?</b>\n",
    ">Hosts need to be the subjects and not guests/listings because otherwise some guests would talk to hosts with the    restriction and others would not, which would not be a fair marketplace. Thus the experiment keeps the market fair and shields spillover effects that would happen in the case of using a listing as a subject (When treatment effects are transmitted from host to guest and guest/guest through the listing, comparison of treatment and control outcomes may provide a biased assessment of the treatment’s causal influence. )\n"
   ]
  }
 ],
 "metadata": {
  "kernelspec": {
   "display_name": "Python 2",
   "language": "python",
   "name": "python2"
  },
  "language_info": {
   "codemirror_mode": {
    "name": "ipython",
    "version": 2
   },
   "file_extension": ".py",
   "mimetype": "text/x-python",
   "name": "python",
   "nbconvert_exporter": "python",
   "pygments_lexer": "ipython2",
   "version": "2.7.10"
  }
 },
 "nbformat": 4,
 "nbformat_minor": 2
}
